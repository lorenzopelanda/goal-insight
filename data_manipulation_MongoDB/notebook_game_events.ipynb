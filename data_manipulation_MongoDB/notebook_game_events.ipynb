{
 "cells": [
  {
   "metadata": {},
   "cell_type": "markdown",
   "source": "# Importing the necessary libraries and the dataset",
   "id": "41497a3783e46936"
  },
  {
   "cell_type": "code",
   "id": "initial_id",
   "metadata": {
    "collapsed": true,
    "ExecuteTime": {
     "end_time": "2024-06-28T09:04:09.204924Z",
     "start_time": "2024-06-28T09:04:08.809900Z"
    }
   },
   "source": [
    "import pandas as pd\n",
    "import re"
   ],
   "outputs": [],
   "execution_count": 1
  },
  {
   "cell_type": "code",
   "source": [
    "df =pd.read_csv('/home/lorenzo/Documents/3-TERZO-ANNO/IUMTWEB/CSV_progetto/game_events.csv')\n",
    "df.shape"
   ],
   "metadata": {
    "collapsed": false,
    "ExecuteTime": {
     "end_time": "2024-06-28T09:04:11.710015Z",
     "start_time": "2024-06-28T09:04:09.206615Z"
    }
   },
   "id": "38cf54384cf4a4b5",
   "outputs": [
    {
     "data": {
      "text/plain": [
       "(666558, 10)"
      ]
     },
     "execution_count": 2,
     "metadata": {},
     "output_type": "execute_result"
    }
   ],
   "execution_count": 2
  },
  {
   "metadata": {},
   "cell_type": "markdown",
   "source": "# Checking the column types",
   "id": "15613e99c03b75b9"
  },
  {
   "cell_type": "code",
   "source": [
    "df.dtypes"
   ],
   "metadata": {
    "collapsed": false,
    "ExecuteTime": {
     "end_time": "2024-06-28T09:04:11.718865Z",
     "start_time": "2024-06-28T09:04:11.711960Z"
    }
   },
   "id": "32ac5fd452f92e0c",
   "outputs": [
    {
     "data": {
      "text/plain": [
       "game_event_id        object\n",
       "date                 object\n",
       "game_id               int64\n",
       "minute                int64\n",
       "type                 object\n",
       "club_id               int64\n",
       "player_id             int64\n",
       "description          object\n",
       "player_in_id        float64\n",
       "player_assist_id    float64\n",
       "dtype: object"
      ]
     },
     "execution_count": 3,
     "metadata": {},
     "output_type": "execute_result"
    }
   ],
   "execution_count": 3
  },
  {
   "cell_type": "code",
   "source": [
    "df['date'] = pd.to_datetime(df['date'])"
   ],
   "metadata": {
    "collapsed": false,
    "ExecuteTime": {
     "end_time": "2024-06-28T09:04:11.817853Z",
     "start_time": "2024-06-28T09:04:11.720866Z"
    }
   },
   "id": "1b12b7662f193a6",
   "outputs": [],
   "execution_count": 4
  },
  {
   "cell_type": "code",
   "source": [
    "df.dtypes"
   ],
   "metadata": {
    "collapsed": false,
    "ExecuteTime": {
     "end_time": "2024-06-28T09:04:11.828559Z",
     "start_time": "2024-06-28T09:04:11.819945Z"
    }
   },
   "id": "84acc708fa2fb8e1",
   "outputs": [
    {
     "data": {
      "text/plain": [
       "game_event_id               object\n",
       "date                datetime64[ns]\n",
       "game_id                      int64\n",
       "minute                       int64\n",
       "type                        object\n",
       "club_id                      int64\n",
       "player_id                    int64\n",
       "description                 object\n",
       "player_in_id               float64\n",
       "player_assist_id           float64\n",
       "dtype: object"
      ]
     },
     "execution_count": 5,
     "metadata": {},
     "output_type": "execute_result"
    }
   ],
   "execution_count": 5
  },
  {
   "metadata": {},
   "cell_type": "markdown",
   "source": "# Creating a function to filter only the europian characters",
   "id": "cc8030c1636a18fd"
  },
  {
   "cell_type": "code",
   "source": [
    "def contains_only_european_chars(s):\n",
    "    return re.match(r'^[a-zA-Z0-9\\s\\.,;:!?\\-\\'\\\"()€£\\u00C0-\\u017F]+$', s) is not None"
   ],
   "metadata": {
    "collapsed": false,
    "ExecuteTime": {
     "end_time": "2024-06-28T09:04:11.842606Z",
     "start_time": "2024-06-28T09:04:11.830533Z"
    }
   },
   "id": "2a7b9061b8f155e4",
   "outputs": [],
   "execution_count": 6
  },
  {
   "cell_type": "code",
   "source": [
    "df['description'] =df['description'].astype('str')\n",
    "df_filtered = df[df['description'].apply(contains_only_european_chars)]"
   ],
   "metadata": {
    "collapsed": false,
    "ExecuteTime": {
     "end_time": "2024-06-28T09:04:12.926875Z",
     "start_time": "2024-06-28T09:04:11.844142Z"
    }
   },
   "id": "851ce9ac22ef8b62",
   "outputs": [],
   "execution_count": 7
  },
  {
   "cell_type": "code",
   "source": [
    "df_filtered.shape"
   ],
   "metadata": {
    "collapsed": false,
    "ExecuteTime": {
     "end_time": "2024-06-28T09:04:12.933065Z",
     "start_time": "2024-06-28T09:04:12.928677Z"
    }
   },
   "id": "2017a67f33470d7a",
   "outputs": [
    {
     "data": {
      "text/plain": [
       "(666558, 10)"
      ]
     },
     "execution_count": 8,
     "metadata": {},
     "output_type": "execute_result"
    }
   ],
   "execution_count": 8
  },
  {
   "metadata": {},
   "cell_type": "markdown",
   "source": "# Selecting the columns to save",
   "id": "ebae427f32141711"
  },
  {
   "cell_type": "code",
   "source": [
    "columns_to_save = ['date','game_id','minute','type','club_id','player_id','description']\n",
    "df_selected_columns = df_filtered[columns_to_save]"
   ],
   "metadata": {
    "collapsed": false,
    "ExecuteTime": {
     "end_time": "2024-06-28T09:04:12.982609Z",
     "start_time": "2024-06-28T09:04:12.934514Z"
    }
   },
   "id": "ac8b0d9da6738f51",
   "outputs": [],
   "execution_count": 9
  },
  {
   "cell_type": "code",
   "source": [
    "df_selected_columns.dtypes"
   ],
   "metadata": {
    "collapsed": false,
    "ExecuteTime": {
     "end_time": "2024-06-28T09:04:12.990201Z",
     "start_time": "2024-06-28T09:04:12.985238Z"
    }
   },
   "id": "fa83f5a6b832c238",
   "outputs": [
    {
     "data": {
      "text/plain": [
       "date           datetime64[ns]\n",
       "game_id                 int64\n",
       "minute                  int64\n",
       "type                   object\n",
       "club_id                 int64\n",
       "player_id               int64\n",
       "description            object\n",
       "dtype: object"
      ]
     },
     "execution_count": 10,
     "metadata": {},
     "output_type": "execute_result"
    }
   ],
   "execution_count": 10
  },
  {
   "metadata": {},
   "cell_type": "markdown",
   "source": "# Converting the type and description columns to String",
   "id": "1e6e7911bc7fc338"
  },
  {
   "cell_type": "code",
   "source": [
    "\n",
    "df_selected_columns.loc[:, 'type'] = df_filtered['type'].astype('str')\n",
    "df_selected_columns.loc[:, 'description'] = df_filtered['description'].astype('str')"
   ],
   "metadata": {
    "collapsed": false,
    "ExecuteTime": {
     "end_time": "2024-06-28T09:04:13.089098Z",
     "start_time": "2024-06-28T09:04:12.992494Z"
    }
   },
   "id": "cee9ed23d899773c",
   "outputs": [],
   "execution_count": 11
  },
  {
   "metadata": {
    "ExecuteTime": {
     "end_time": "2024-06-28T09:04:13.111973Z",
     "start_time": "2024-06-28T09:04:13.090709Z"
    }
   },
   "cell_type": "code",
   "source": "df_selected_columns",
   "id": "c0dd30883ae24f77",
   "outputs": [
    {
     "data": {
      "text/plain": [
       "             date  game_id  minute           type  club_id  player_id  \\\n",
       "0      2012-08-05  2211607      77          Cards      610       4425   \n",
       "1      2012-08-05  2211607      77          Cards      383      33210   \n",
       "2      2012-08-05  2211607       3          Goals      383      36500   \n",
       "3      2012-08-05  2211607      53          Goals      383      36500   \n",
       "4      2012-08-05  2211607      74  Substitutions      383      36500   \n",
       "...           ...      ...     ...            ...      ...        ...   \n",
       "666553 2023-11-15  4228114      82  Substitutions      358     874064   \n",
       "666554 2023-11-15  4228114      44          Goals    46889     922572   \n",
       "666555 2023-11-15  4228114      68  Substitutions    46889     922572   \n",
       "666556 2023-11-15  4228114      68  Substitutions    46889    1200864   \n",
       "666557 2023-11-15  4228114      85          Goals      358    1203715   \n",
       "\n",
       "                                              description  \n",
       "0                    1. Yellow card  , Mass confrontation  \n",
       "1                    1. Yellow card  , Mass confrontation  \n",
       "2       , Header, 1. Tournament Goal Assist: , Corner,...  \n",
       "3       , Right-footed shot, 2. Tournament Goal Assist...  \n",
       "4                                          , Not reported  \n",
       "...                                                   ...  \n",
       "666553                                         , Tactical  \n",
       "666554                      , Penalty, 1. Tournament Goal  \n",
       "666555                                         , Tactical  \n",
       "666556                                         , Tactical  \n",
       "666557            , Right-footed shot, 1. Tournament Goal  \n",
       "\n",
       "[666558 rows x 7 columns]"
      ],
      "text/html": [
       "<div>\n",
       "<style scoped>\n",
       "    .dataframe tbody tr th:only-of-type {\n",
       "        vertical-align: middle;\n",
       "    }\n",
       "\n",
       "    .dataframe tbody tr th {\n",
       "        vertical-align: top;\n",
       "    }\n",
       "\n",
       "    .dataframe thead th {\n",
       "        text-align: right;\n",
       "    }\n",
       "</style>\n",
       "<table border=\"1\" class=\"dataframe\">\n",
       "  <thead>\n",
       "    <tr style=\"text-align: right;\">\n",
       "      <th></th>\n",
       "      <th>date</th>\n",
       "      <th>game_id</th>\n",
       "      <th>minute</th>\n",
       "      <th>type</th>\n",
       "      <th>club_id</th>\n",
       "      <th>player_id</th>\n",
       "      <th>description</th>\n",
       "    </tr>\n",
       "  </thead>\n",
       "  <tbody>\n",
       "    <tr>\n",
       "      <th>0</th>\n",
       "      <td>2012-08-05</td>\n",
       "      <td>2211607</td>\n",
       "      <td>77</td>\n",
       "      <td>Cards</td>\n",
       "      <td>610</td>\n",
       "      <td>4425</td>\n",
       "      <td>1. Yellow card  , Mass confrontation</td>\n",
       "    </tr>\n",
       "    <tr>\n",
       "      <th>1</th>\n",
       "      <td>2012-08-05</td>\n",
       "      <td>2211607</td>\n",
       "      <td>77</td>\n",
       "      <td>Cards</td>\n",
       "      <td>383</td>\n",
       "      <td>33210</td>\n",
       "      <td>1. Yellow card  , Mass confrontation</td>\n",
       "    </tr>\n",
       "    <tr>\n",
       "      <th>2</th>\n",
       "      <td>2012-08-05</td>\n",
       "      <td>2211607</td>\n",
       "      <td>3</td>\n",
       "      <td>Goals</td>\n",
       "      <td>383</td>\n",
       "      <td>36500</td>\n",
       "      <td>, Header, 1. Tournament Goal Assist: , Corner,...</td>\n",
       "    </tr>\n",
       "    <tr>\n",
       "      <th>3</th>\n",
       "      <td>2012-08-05</td>\n",
       "      <td>2211607</td>\n",
       "      <td>53</td>\n",
       "      <td>Goals</td>\n",
       "      <td>383</td>\n",
       "      <td>36500</td>\n",
       "      <td>, Right-footed shot, 2. Tournament Goal Assist...</td>\n",
       "    </tr>\n",
       "    <tr>\n",
       "      <th>4</th>\n",
       "      <td>2012-08-05</td>\n",
       "      <td>2211607</td>\n",
       "      <td>74</td>\n",
       "      <td>Substitutions</td>\n",
       "      <td>383</td>\n",
       "      <td>36500</td>\n",
       "      <td>, Not reported</td>\n",
       "    </tr>\n",
       "    <tr>\n",
       "      <th>...</th>\n",
       "      <td>...</td>\n",
       "      <td>...</td>\n",
       "      <td>...</td>\n",
       "      <td>...</td>\n",
       "      <td>...</td>\n",
       "      <td>...</td>\n",
       "      <td>...</td>\n",
       "    </tr>\n",
       "    <tr>\n",
       "      <th>666553</th>\n",
       "      <td>2023-11-15</td>\n",
       "      <td>4228114</td>\n",
       "      <td>82</td>\n",
       "      <td>Substitutions</td>\n",
       "      <td>358</td>\n",
       "      <td>874064</td>\n",
       "      <td>, Tactical</td>\n",
       "    </tr>\n",
       "    <tr>\n",
       "      <th>666554</th>\n",
       "      <td>2023-11-15</td>\n",
       "      <td>4228114</td>\n",
       "      <td>44</td>\n",
       "      <td>Goals</td>\n",
       "      <td>46889</td>\n",
       "      <td>922572</td>\n",
       "      <td>, Penalty, 1. Tournament Goal</td>\n",
       "    </tr>\n",
       "    <tr>\n",
       "      <th>666555</th>\n",
       "      <td>2023-11-15</td>\n",
       "      <td>4228114</td>\n",
       "      <td>68</td>\n",
       "      <td>Substitutions</td>\n",
       "      <td>46889</td>\n",
       "      <td>922572</td>\n",
       "      <td>, Tactical</td>\n",
       "    </tr>\n",
       "    <tr>\n",
       "      <th>666556</th>\n",
       "      <td>2023-11-15</td>\n",
       "      <td>4228114</td>\n",
       "      <td>68</td>\n",
       "      <td>Substitutions</td>\n",
       "      <td>46889</td>\n",
       "      <td>1200864</td>\n",
       "      <td>, Tactical</td>\n",
       "    </tr>\n",
       "    <tr>\n",
       "      <th>666557</th>\n",
       "      <td>2023-11-15</td>\n",
       "      <td>4228114</td>\n",
       "      <td>85</td>\n",
       "      <td>Goals</td>\n",
       "      <td>358</td>\n",
       "      <td>1203715</td>\n",
       "      <td>, Right-footed shot, 1. Tournament Goal</td>\n",
       "    </tr>\n",
       "  </tbody>\n",
       "</table>\n",
       "<p>666558 rows × 7 columns</p>\n",
       "</div>"
      ]
     },
     "execution_count": 12,
     "metadata": {},
     "output_type": "execute_result"
    }
   ],
   "execution_count": 12
  },
  {
   "metadata": {
    "ExecuteTime": {
     "end_time": "2024-06-28T09:04:13.609812Z",
     "start_time": "2024-06-28T09:04:13.114132Z"
    }
   },
   "cell_type": "code",
   "source": [
    "df_players = pd.read_csv('/home/lorenzo/Documents/3-TERZO-ANNO/IUMTWEB/CSV_progetto/players.csv')\n",
    "df_selected_columns = df_selected_columns.merge(df_players[['player_id', 'name']], on='player_id', how='left')"
   ],
   "id": "ca67b2fff3cca1d3",
   "outputs": [],
   "execution_count": 13
  },
  {
   "metadata": {
    "ExecuteTime": {
     "end_time": "2024-06-28T09:04:13.628129Z",
     "start_time": "2024-06-28T09:04:13.611139Z"
    }
   },
   "cell_type": "code",
   "source": "df_selected_columns",
   "id": "cf4835f4a8d7aaf0",
   "outputs": [
    {
     "data": {
      "text/plain": [
       "             date  game_id  minute           type  club_id  player_id  \\\n",
       "0      2012-08-05  2211607      77          Cards      610       4425   \n",
       "1      2012-08-05  2211607      77          Cards      383      33210   \n",
       "2      2012-08-05  2211607       3          Goals      383      36500   \n",
       "3      2012-08-05  2211607      53          Goals      383      36500   \n",
       "4      2012-08-05  2211607      74  Substitutions      383      36500   \n",
       "...           ...      ...     ...            ...      ...        ...   \n",
       "666553 2023-11-15  4228114      82  Substitutions      358     874064   \n",
       "666554 2023-11-15  4228114      44          Goals    46889     922572   \n",
       "666555 2023-11-15  4228114      68  Substitutions    46889     922572   \n",
       "666556 2023-11-15  4228114      68  Substitutions    46889    1200864   \n",
       "666557 2023-11-15  4228114      85          Goals      358    1203715   \n",
       "\n",
       "                                              description              name  \n",
       "0                    1. Yellow card  , Mass confrontation      Theo Janssen  \n",
       "1                    1. Yellow card  , Mass confrontation  Przemyslaw Tyton  \n",
       "2       , Header, 1. Tournament Goal Assist: , Corner,...      Ola Toivonen  \n",
       "3       , Right-footed shot, 2. Tournament Goal Assist...      Ola Toivonen  \n",
       "4                                          , Not reported      Ola Toivonen  \n",
       "...                                                   ...               ...  \n",
       "666553                                         , Tactical               NaN  \n",
       "666554                      , Penalty, 1. Tournament Goal               NaN  \n",
       "666555                                         , Tactical               NaN  \n",
       "666556                                         , Tactical               NaN  \n",
       "666557            , Right-footed shot, 1. Tournament Goal               NaN  \n",
       "\n",
       "[666558 rows x 8 columns]"
      ],
      "text/html": [
       "<div>\n",
       "<style scoped>\n",
       "    .dataframe tbody tr th:only-of-type {\n",
       "        vertical-align: middle;\n",
       "    }\n",
       "\n",
       "    .dataframe tbody tr th {\n",
       "        vertical-align: top;\n",
       "    }\n",
       "\n",
       "    .dataframe thead th {\n",
       "        text-align: right;\n",
       "    }\n",
       "</style>\n",
       "<table border=\"1\" class=\"dataframe\">\n",
       "  <thead>\n",
       "    <tr style=\"text-align: right;\">\n",
       "      <th></th>\n",
       "      <th>date</th>\n",
       "      <th>game_id</th>\n",
       "      <th>minute</th>\n",
       "      <th>type</th>\n",
       "      <th>club_id</th>\n",
       "      <th>player_id</th>\n",
       "      <th>description</th>\n",
       "      <th>name</th>\n",
       "    </tr>\n",
       "  </thead>\n",
       "  <tbody>\n",
       "    <tr>\n",
       "      <th>0</th>\n",
       "      <td>2012-08-05</td>\n",
       "      <td>2211607</td>\n",
       "      <td>77</td>\n",
       "      <td>Cards</td>\n",
       "      <td>610</td>\n",
       "      <td>4425</td>\n",
       "      <td>1. Yellow card  , Mass confrontation</td>\n",
       "      <td>Theo Janssen</td>\n",
       "    </tr>\n",
       "    <tr>\n",
       "      <th>1</th>\n",
       "      <td>2012-08-05</td>\n",
       "      <td>2211607</td>\n",
       "      <td>77</td>\n",
       "      <td>Cards</td>\n",
       "      <td>383</td>\n",
       "      <td>33210</td>\n",
       "      <td>1. Yellow card  , Mass confrontation</td>\n",
       "      <td>Przemyslaw Tyton</td>\n",
       "    </tr>\n",
       "    <tr>\n",
       "      <th>2</th>\n",
       "      <td>2012-08-05</td>\n",
       "      <td>2211607</td>\n",
       "      <td>3</td>\n",
       "      <td>Goals</td>\n",
       "      <td>383</td>\n",
       "      <td>36500</td>\n",
       "      <td>, Header, 1. Tournament Goal Assist: , Corner,...</td>\n",
       "      <td>Ola Toivonen</td>\n",
       "    </tr>\n",
       "    <tr>\n",
       "      <th>3</th>\n",
       "      <td>2012-08-05</td>\n",
       "      <td>2211607</td>\n",
       "      <td>53</td>\n",
       "      <td>Goals</td>\n",
       "      <td>383</td>\n",
       "      <td>36500</td>\n",
       "      <td>, Right-footed shot, 2. Tournament Goal Assist...</td>\n",
       "      <td>Ola Toivonen</td>\n",
       "    </tr>\n",
       "    <tr>\n",
       "      <th>4</th>\n",
       "      <td>2012-08-05</td>\n",
       "      <td>2211607</td>\n",
       "      <td>74</td>\n",
       "      <td>Substitutions</td>\n",
       "      <td>383</td>\n",
       "      <td>36500</td>\n",
       "      <td>, Not reported</td>\n",
       "      <td>Ola Toivonen</td>\n",
       "    </tr>\n",
       "    <tr>\n",
       "      <th>...</th>\n",
       "      <td>...</td>\n",
       "      <td>...</td>\n",
       "      <td>...</td>\n",
       "      <td>...</td>\n",
       "      <td>...</td>\n",
       "      <td>...</td>\n",
       "      <td>...</td>\n",
       "      <td>...</td>\n",
       "    </tr>\n",
       "    <tr>\n",
       "      <th>666553</th>\n",
       "      <td>2023-11-15</td>\n",
       "      <td>4228114</td>\n",
       "      <td>82</td>\n",
       "      <td>Substitutions</td>\n",
       "      <td>358</td>\n",
       "      <td>874064</td>\n",
       "      <td>, Tactical</td>\n",
       "      <td>NaN</td>\n",
       "    </tr>\n",
       "    <tr>\n",
       "      <th>666554</th>\n",
       "      <td>2023-11-15</td>\n",
       "      <td>4228114</td>\n",
       "      <td>44</td>\n",
       "      <td>Goals</td>\n",
       "      <td>46889</td>\n",
       "      <td>922572</td>\n",
       "      <td>, Penalty, 1. Tournament Goal</td>\n",
       "      <td>NaN</td>\n",
       "    </tr>\n",
       "    <tr>\n",
       "      <th>666555</th>\n",
       "      <td>2023-11-15</td>\n",
       "      <td>4228114</td>\n",
       "      <td>68</td>\n",
       "      <td>Substitutions</td>\n",
       "      <td>46889</td>\n",
       "      <td>922572</td>\n",
       "      <td>, Tactical</td>\n",
       "      <td>NaN</td>\n",
       "    </tr>\n",
       "    <tr>\n",
       "      <th>666556</th>\n",
       "      <td>2023-11-15</td>\n",
       "      <td>4228114</td>\n",
       "      <td>68</td>\n",
       "      <td>Substitutions</td>\n",
       "      <td>46889</td>\n",
       "      <td>1200864</td>\n",
       "      <td>, Tactical</td>\n",
       "      <td>NaN</td>\n",
       "    </tr>\n",
       "    <tr>\n",
       "      <th>666557</th>\n",
       "      <td>2023-11-15</td>\n",
       "      <td>4228114</td>\n",
       "      <td>85</td>\n",
       "      <td>Goals</td>\n",
       "      <td>358</td>\n",
       "      <td>1203715</td>\n",
       "      <td>, Right-footed shot, 1. Tournament Goal</td>\n",
       "      <td>NaN</td>\n",
       "    </tr>\n",
       "  </tbody>\n",
       "</table>\n",
       "<p>666558 rows × 8 columns</p>\n",
       "</div>"
      ]
     },
     "execution_count": 14,
     "metadata": {},
     "output_type": "execute_result"
    }
   ],
   "execution_count": 14
  },
  {
   "metadata": {},
   "cell_type": "markdown",
   "source": "# Checking the dataset to match the players and clubs datasets",
   "id": "c074ebbdfb87bf21"
  },
  {
   "metadata": {
    "ExecuteTime": {
     "end_time": "2024-06-28T09:04:13.718220Z",
     "start_time": "2024-06-28T09:04:13.629394Z"
    }
   },
   "cell_type": "code",
   "source": [
    "df_clubs = pd.read_csv('/home/lorenzo/Documents/3-TERZO-ANNO/IUMTWEB/Manipulated_data/clubs.csv')\n",
    "df_filtered_filtered = df_selected_columns[df_selected_columns['club_id'].isin(df_clubs['club_id'])]\n",
    "df_filtered_filtered"
   ],
   "id": "d40d7a4756185323",
   "outputs": [
    {
     "data": {
      "text/plain": [
       "             date  game_id  minute           type  club_id  player_id  \\\n",
       "0      2012-08-05  2211607      77          Cards      610       4425   \n",
       "1      2012-08-05  2211607      77          Cards      383      33210   \n",
       "2      2012-08-05  2211607       3          Goals      383      36500   \n",
       "3      2012-08-05  2211607      53          Goals      383      36500   \n",
       "4      2012-08-05  2211607      74  Substitutions      383      36500   \n",
       "...           ...      ...     ...            ...      ...        ...   \n",
       "666386 2023-11-22  4227848      55          Goals     3060     186798   \n",
       "666387 2023-11-22  4227848      90  Substitutions     3060     186798   \n",
       "666388 2023-11-22  4227848      66  Substitutions     3060     339829   \n",
       "666391 2023-11-22  4227848      66  Substitutions     3060     491648   \n",
       "666392 2023-11-22  4227848      66  Substitutions     3060     502893   \n",
       "\n",
       "                                              description              name  \n",
       "0                    1. Yellow card  , Mass confrontation      Theo Janssen  \n",
       "1                    1. Yellow card  , Mass confrontation  Przemyslaw Tyton  \n",
       "2       , Header, 1. Tournament Goal Assist: , Corner,...      Ola Toivonen  \n",
       "3       , Right-footed shot, 2. Tournament Goal Assist...      Ola Toivonen  \n",
       "4                                          , Not reported      Ola Toivonen  \n",
       "...                                                   ...               ...  \n",
       "666386  , Right-footed shot, 1. Tournament Goal Assist...      Andreas Kuen  \n",
       "666387                                                nan      Andreas Kuen  \n",
       "666388                                                nan      Pierre Kunde  \n",
       "666391                                                nan    Diego Valencia  \n",
       "666392                                                nan   Denzel Jubitana  \n",
       "\n",
       "[550560 rows x 8 columns]"
      ],
      "text/html": [
       "<div>\n",
       "<style scoped>\n",
       "    .dataframe tbody tr th:only-of-type {\n",
       "        vertical-align: middle;\n",
       "    }\n",
       "\n",
       "    .dataframe tbody tr th {\n",
       "        vertical-align: top;\n",
       "    }\n",
       "\n",
       "    .dataframe thead th {\n",
       "        text-align: right;\n",
       "    }\n",
       "</style>\n",
       "<table border=\"1\" class=\"dataframe\">\n",
       "  <thead>\n",
       "    <tr style=\"text-align: right;\">\n",
       "      <th></th>\n",
       "      <th>date</th>\n",
       "      <th>game_id</th>\n",
       "      <th>minute</th>\n",
       "      <th>type</th>\n",
       "      <th>club_id</th>\n",
       "      <th>player_id</th>\n",
       "      <th>description</th>\n",
       "      <th>name</th>\n",
       "    </tr>\n",
       "  </thead>\n",
       "  <tbody>\n",
       "    <tr>\n",
       "      <th>0</th>\n",
       "      <td>2012-08-05</td>\n",
       "      <td>2211607</td>\n",
       "      <td>77</td>\n",
       "      <td>Cards</td>\n",
       "      <td>610</td>\n",
       "      <td>4425</td>\n",
       "      <td>1. Yellow card  , Mass confrontation</td>\n",
       "      <td>Theo Janssen</td>\n",
       "    </tr>\n",
       "    <tr>\n",
       "      <th>1</th>\n",
       "      <td>2012-08-05</td>\n",
       "      <td>2211607</td>\n",
       "      <td>77</td>\n",
       "      <td>Cards</td>\n",
       "      <td>383</td>\n",
       "      <td>33210</td>\n",
       "      <td>1. Yellow card  , Mass confrontation</td>\n",
       "      <td>Przemyslaw Tyton</td>\n",
       "    </tr>\n",
       "    <tr>\n",
       "      <th>2</th>\n",
       "      <td>2012-08-05</td>\n",
       "      <td>2211607</td>\n",
       "      <td>3</td>\n",
       "      <td>Goals</td>\n",
       "      <td>383</td>\n",
       "      <td>36500</td>\n",
       "      <td>, Header, 1. Tournament Goal Assist: , Corner,...</td>\n",
       "      <td>Ola Toivonen</td>\n",
       "    </tr>\n",
       "    <tr>\n",
       "      <th>3</th>\n",
       "      <td>2012-08-05</td>\n",
       "      <td>2211607</td>\n",
       "      <td>53</td>\n",
       "      <td>Goals</td>\n",
       "      <td>383</td>\n",
       "      <td>36500</td>\n",
       "      <td>, Right-footed shot, 2. Tournament Goal Assist...</td>\n",
       "      <td>Ola Toivonen</td>\n",
       "    </tr>\n",
       "    <tr>\n",
       "      <th>4</th>\n",
       "      <td>2012-08-05</td>\n",
       "      <td>2211607</td>\n",
       "      <td>74</td>\n",
       "      <td>Substitutions</td>\n",
       "      <td>383</td>\n",
       "      <td>36500</td>\n",
       "      <td>, Not reported</td>\n",
       "      <td>Ola Toivonen</td>\n",
       "    </tr>\n",
       "    <tr>\n",
       "      <th>...</th>\n",
       "      <td>...</td>\n",
       "      <td>...</td>\n",
       "      <td>...</td>\n",
       "      <td>...</td>\n",
       "      <td>...</td>\n",
       "      <td>...</td>\n",
       "      <td>...</td>\n",
       "      <td>...</td>\n",
       "    </tr>\n",
       "    <tr>\n",
       "      <th>666386</th>\n",
       "      <td>2023-11-22</td>\n",
       "      <td>4227848</td>\n",
       "      <td>55</td>\n",
       "      <td>Goals</td>\n",
       "      <td>3060</td>\n",
       "      <td>186798</td>\n",
       "      <td>, Right-footed shot, 1. Tournament Goal Assist...</td>\n",
       "      <td>Andreas Kuen</td>\n",
       "    </tr>\n",
       "    <tr>\n",
       "      <th>666387</th>\n",
       "      <td>2023-11-22</td>\n",
       "      <td>4227848</td>\n",
       "      <td>90</td>\n",
       "      <td>Substitutions</td>\n",
       "      <td>3060</td>\n",
       "      <td>186798</td>\n",
       "      <td>nan</td>\n",
       "      <td>Andreas Kuen</td>\n",
       "    </tr>\n",
       "    <tr>\n",
       "      <th>666388</th>\n",
       "      <td>2023-11-22</td>\n",
       "      <td>4227848</td>\n",
       "      <td>66</td>\n",
       "      <td>Substitutions</td>\n",
       "      <td>3060</td>\n",
       "      <td>339829</td>\n",
       "      <td>nan</td>\n",
       "      <td>Pierre Kunde</td>\n",
       "    </tr>\n",
       "    <tr>\n",
       "      <th>666391</th>\n",
       "      <td>2023-11-22</td>\n",
       "      <td>4227848</td>\n",
       "      <td>66</td>\n",
       "      <td>Substitutions</td>\n",
       "      <td>3060</td>\n",
       "      <td>491648</td>\n",
       "      <td>nan</td>\n",
       "      <td>Diego Valencia</td>\n",
       "    </tr>\n",
       "    <tr>\n",
       "      <th>666392</th>\n",
       "      <td>2023-11-22</td>\n",
       "      <td>4227848</td>\n",
       "      <td>66</td>\n",
       "      <td>Substitutions</td>\n",
       "      <td>3060</td>\n",
       "      <td>502893</td>\n",
       "      <td>nan</td>\n",
       "      <td>Denzel Jubitana</td>\n",
       "    </tr>\n",
       "  </tbody>\n",
       "</table>\n",
       "<p>550560 rows × 8 columns</p>\n",
       "</div>"
      ]
     },
     "execution_count": 15,
     "metadata": {},
     "output_type": "execute_result"
    }
   ],
   "execution_count": 15
  },
  {
   "metadata": {},
   "cell_type": "markdown",
   "source": "# Saving the dataset",
   "id": "1e569ad8b7fab414"
  },
  {
   "cell_type": "code",
   "source": "df_filtered_filtered.to_csv('/home/lorenzo/Documents/3-TERZO-ANNO/IUMTWEB/Manipulated_data/game_events.csv', index=False)",
   "metadata": {
    "collapsed": false,
    "ExecuteTime": {
     "end_time": "2024-06-28T09:04:16.433462Z",
     "start_time": "2024-06-28T09:04:13.720923Z"
    }
   },
   "id": "498784047561609",
   "outputs": [],
   "execution_count": 16
  },
  {
   "metadata": {
    "ExecuteTime": {
     "end_time": "2024-06-28T09:04:16.441681Z",
     "start_time": "2024-06-28T09:04:16.437425Z"
    }
   },
   "cell_type": "code",
   "source": "",
   "id": "c1f475b545374207",
   "outputs": [],
   "execution_count": 16
  }
 ],
 "metadata": {
  "kernelspec": {
   "display_name": "Python 3",
   "language": "python",
   "name": "python3"
  },
  "language_info": {
   "codemirror_mode": {
    "name": "ipython",
    "version": 2
   },
   "file_extension": ".py",
   "mimetype": "text/x-python",
   "name": "python",
   "nbconvert_exporter": "python",
   "pygments_lexer": "ipython2",
   "version": "2.7.6"
  }
 },
 "nbformat": 4,
 "nbformat_minor": 5
}
