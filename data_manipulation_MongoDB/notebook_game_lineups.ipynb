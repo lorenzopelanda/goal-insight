{
 "cells": [
  {
   "metadata": {},
   "cell_type": "markdown",
   "source": "# Importing the necessary libraries and the dataset",
   "id": "cc4328857eb599da"
  },
  {
   "cell_type": "code",
   "id": "initial_id",
   "metadata": {
    "collapsed": true,
    "ExecuteTime": {
     "end_time": "2024-06-28T09:04:00.830579Z",
     "start_time": "2024-06-28T09:04:00.474039Z"
    }
   },
   "source": [
    "import pandas as pd\n",
    "import re"
   ],
   "outputs": [],
   "execution_count": 1
  },
  {
   "cell_type": "code",
   "source": [
    "df =pd.read_csv('/home/lorenzo/Documents/3-TERZO-ANNO/IUMTWEB/CSV_progetto/game_lineups.csv')\n",
    "df.shape"
   ],
   "metadata": {
    "collapsed": false,
    "ExecuteTime": {
     "end_time": "2024-06-28T09:04:01.193108Z",
     "start_time": "2024-06-28T09:04:00.834835Z"
    }
   },
   "id": "18be8190d11b0348",
   "outputs": [
    {
     "data": {
      "text/plain": [
       "(119133, 9)"
      ]
     },
     "execution_count": 2,
     "metadata": {},
     "output_type": "execute_result"
    }
   ],
   "execution_count": 2
  },
  {
   "cell_type": "markdown",
   "source": [],
   "metadata": {
    "collapsed": false
   },
   "id": "eb62615c5a563f41"
  },
  {
   "metadata": {},
   "cell_type": "markdown",
   "source": "# Checking the data types of the columns",
   "id": "88997a8be3082ed6"
  },
  {
   "cell_type": "code",
   "source": "df.dtypes",
   "metadata": {
    "collapsed": false,
    "ExecuteTime": {
     "end_time": "2024-06-28T09:04:01.201983Z",
     "start_time": "2024-06-28T09:04:01.194815Z"
    }
   },
   "id": "20ac0aa36fd582bb",
   "outputs": [
    {
     "data": {
      "text/plain": [
       "game_lineups_id    object\n",
       "game_id             int64\n",
       "club_id             int64\n",
       "type               object\n",
       "number             object\n",
       "player_id           int64\n",
       "player_name        object\n",
       "team_captain        int64\n",
       "position           object\n",
       "dtype: object"
      ]
     },
     "execution_count": 3,
     "metadata": {},
     "output_type": "execute_result"
    }
   ],
   "execution_count": 3
  },
  {
   "metadata": {},
   "cell_type": "markdown",
   "source": "# Dropping the missing values",
   "id": "3c0c7cf0788d35ba"
  },
  {
   "cell_type": "code",
   "source": [
    "df = df.dropna()\n",
    "df"
   ],
   "metadata": {
    "collapsed": false,
    "ExecuteTime": {
     "end_time": "2024-06-28T09:04:01.267419Z",
     "start_time": "2024-06-28T09:04:01.204055Z"
    }
   },
   "id": "2f49f27423208299",
   "outputs": [
    {
     "data": {
      "text/plain": [
       "                         game_lineups_id  game_id  club_id             type  \\\n",
       "0       77b0f371923e0c8bdf050a1e269faaac  3606208      338  starting_lineup   \n",
       "1       cb6eeedb9f728570615d37b6fe7facaf  3606208      338  starting_lineup   \n",
       "2       8e63d5f47aac2bdb0e54f5481986e104  3606208      338  starting_lineup   \n",
       "3       ea4a96d8be410f2d646cf095c4faae7f  3606208      338  starting_lineup   \n",
       "4       e6abe553801b09bc623c3deb96acba17  3606208      338  starting_lineup   \n",
       "...                                  ...      ...      ...              ...   \n",
       "119128  f4e6a6b2e3d24d12290c6ce4168e1bdb  4228114    46889      substitutes   \n",
       "119129  7a78814a66c59c79e8d40c8669a67d3f  4228114    46889      substitutes   \n",
       "119130  09cc07767ce441b4de4a76c102fd17d5  4228114    46889      substitutes   \n",
       "119131  3c259f1849421af021aba3e84a4da8de  4228114    46889      substitutes   \n",
       "119132  92f069e6041dae45375081d7662b2c12  4228114    46889      substitutes   \n",
       "\n",
       "       number  player_id              player_name  team_captain  \\\n",
       "0          89     419061       Vladyslav Supryaga             0   \n",
       "1          10     368611        Mykola Shaparenko             0   \n",
       "2           5     124182         Sergiy Sydorchuk             1   \n",
       "3          94     181118          Tomasz Kedziora             0   \n",
       "4          16     404842        Vitaliy Mykolenko             0   \n",
       "...       ...        ...                      ...           ...   \n",
       "119128      3    1200869          Thomas Chambers             0   \n",
       "119129      5    1203716  Mohammed-Idris Oshilaja             0   \n",
       "119130     13    1200870              Max Ovenden             0   \n",
       "119131     12     550816              Julien Anau             0   \n",
       "119132     10     128198             Adam Coombes             0   \n",
       "\n",
       "                  position  \n",
       "0           Centre-Forward  \n",
       "1         Central Midfield  \n",
       "2       Defensive Midfield  \n",
       "3               Right-Back  \n",
       "4                Left-Back  \n",
       "...                    ...  \n",
       "119128           Left-Back  \n",
       "119129            Defender  \n",
       "119130          Goalkeeper  \n",
       "119131  Attacking Midfield  \n",
       "119132              Attack  \n",
       "\n",
       "[119133 rows x 9 columns]"
      ],
      "text/html": [
       "<div>\n",
       "<style scoped>\n",
       "    .dataframe tbody tr th:only-of-type {\n",
       "        vertical-align: middle;\n",
       "    }\n",
       "\n",
       "    .dataframe tbody tr th {\n",
       "        vertical-align: top;\n",
       "    }\n",
       "\n",
       "    .dataframe thead th {\n",
       "        text-align: right;\n",
       "    }\n",
       "</style>\n",
       "<table border=\"1\" class=\"dataframe\">\n",
       "  <thead>\n",
       "    <tr style=\"text-align: right;\">\n",
       "      <th></th>\n",
       "      <th>game_lineups_id</th>\n",
       "      <th>game_id</th>\n",
       "      <th>club_id</th>\n",
       "      <th>type</th>\n",
       "      <th>number</th>\n",
       "      <th>player_id</th>\n",
       "      <th>player_name</th>\n",
       "      <th>team_captain</th>\n",
       "      <th>position</th>\n",
       "    </tr>\n",
       "  </thead>\n",
       "  <tbody>\n",
       "    <tr>\n",
       "      <th>0</th>\n",
       "      <td>77b0f371923e0c8bdf050a1e269faaac</td>\n",
       "      <td>3606208</td>\n",
       "      <td>338</td>\n",
       "      <td>starting_lineup</td>\n",
       "      <td>89</td>\n",
       "      <td>419061</td>\n",
       "      <td>Vladyslav Supryaga</td>\n",
       "      <td>0</td>\n",
       "      <td>Centre-Forward</td>\n",
       "    </tr>\n",
       "    <tr>\n",
       "      <th>1</th>\n",
       "      <td>cb6eeedb9f728570615d37b6fe7facaf</td>\n",
       "      <td>3606208</td>\n",
       "      <td>338</td>\n",
       "      <td>starting_lineup</td>\n",
       "      <td>10</td>\n",
       "      <td>368611</td>\n",
       "      <td>Mykola Shaparenko</td>\n",
       "      <td>0</td>\n",
       "      <td>Central Midfield</td>\n",
       "    </tr>\n",
       "    <tr>\n",
       "      <th>2</th>\n",
       "      <td>8e63d5f47aac2bdb0e54f5481986e104</td>\n",
       "      <td>3606208</td>\n",
       "      <td>338</td>\n",
       "      <td>starting_lineup</td>\n",
       "      <td>5</td>\n",
       "      <td>124182</td>\n",
       "      <td>Sergiy Sydorchuk</td>\n",
       "      <td>1</td>\n",
       "      <td>Defensive Midfield</td>\n",
       "    </tr>\n",
       "    <tr>\n",
       "      <th>3</th>\n",
       "      <td>ea4a96d8be410f2d646cf095c4faae7f</td>\n",
       "      <td>3606208</td>\n",
       "      <td>338</td>\n",
       "      <td>starting_lineup</td>\n",
       "      <td>94</td>\n",
       "      <td>181118</td>\n",
       "      <td>Tomasz Kedziora</td>\n",
       "      <td>0</td>\n",
       "      <td>Right-Back</td>\n",
       "    </tr>\n",
       "    <tr>\n",
       "      <th>4</th>\n",
       "      <td>e6abe553801b09bc623c3deb96acba17</td>\n",
       "      <td>3606208</td>\n",
       "      <td>338</td>\n",
       "      <td>starting_lineup</td>\n",
       "      <td>16</td>\n",
       "      <td>404842</td>\n",
       "      <td>Vitaliy Mykolenko</td>\n",
       "      <td>0</td>\n",
       "      <td>Left-Back</td>\n",
       "    </tr>\n",
       "    <tr>\n",
       "      <th>...</th>\n",
       "      <td>...</td>\n",
       "      <td>...</td>\n",
       "      <td>...</td>\n",
       "      <td>...</td>\n",
       "      <td>...</td>\n",
       "      <td>...</td>\n",
       "      <td>...</td>\n",
       "      <td>...</td>\n",
       "      <td>...</td>\n",
       "    </tr>\n",
       "    <tr>\n",
       "      <th>119128</th>\n",
       "      <td>f4e6a6b2e3d24d12290c6ce4168e1bdb</td>\n",
       "      <td>4228114</td>\n",
       "      <td>46889</td>\n",
       "      <td>substitutes</td>\n",
       "      <td>3</td>\n",
       "      <td>1200869</td>\n",
       "      <td>Thomas Chambers</td>\n",
       "      <td>0</td>\n",
       "      <td>Left-Back</td>\n",
       "    </tr>\n",
       "    <tr>\n",
       "      <th>119129</th>\n",
       "      <td>7a78814a66c59c79e8d40c8669a67d3f</td>\n",
       "      <td>4228114</td>\n",
       "      <td>46889</td>\n",
       "      <td>substitutes</td>\n",
       "      <td>5</td>\n",
       "      <td>1203716</td>\n",
       "      <td>Mohammed-Idris Oshilaja</td>\n",
       "      <td>0</td>\n",
       "      <td>Defender</td>\n",
       "    </tr>\n",
       "    <tr>\n",
       "      <th>119130</th>\n",
       "      <td>09cc07767ce441b4de4a76c102fd17d5</td>\n",
       "      <td>4228114</td>\n",
       "      <td>46889</td>\n",
       "      <td>substitutes</td>\n",
       "      <td>13</td>\n",
       "      <td>1200870</td>\n",
       "      <td>Max Ovenden</td>\n",
       "      <td>0</td>\n",
       "      <td>Goalkeeper</td>\n",
       "    </tr>\n",
       "    <tr>\n",
       "      <th>119131</th>\n",
       "      <td>3c259f1849421af021aba3e84a4da8de</td>\n",
       "      <td>4228114</td>\n",
       "      <td>46889</td>\n",
       "      <td>substitutes</td>\n",
       "      <td>12</td>\n",
       "      <td>550816</td>\n",
       "      <td>Julien Anau</td>\n",
       "      <td>0</td>\n",
       "      <td>Attacking Midfield</td>\n",
       "    </tr>\n",
       "    <tr>\n",
       "      <th>119132</th>\n",
       "      <td>92f069e6041dae45375081d7662b2c12</td>\n",
       "      <td>4228114</td>\n",
       "      <td>46889</td>\n",
       "      <td>substitutes</td>\n",
       "      <td>10</td>\n",
       "      <td>128198</td>\n",
       "      <td>Adam Coombes</td>\n",
       "      <td>0</td>\n",
       "      <td>Attack</td>\n",
       "    </tr>\n",
       "  </tbody>\n",
       "</table>\n",
       "<p>119133 rows × 9 columns</p>\n",
       "</div>"
      ]
     },
     "execution_count": 4,
     "metadata": {},
     "output_type": "execute_result"
    }
   ],
   "execution_count": 4
  },
  {
   "metadata": {},
   "cell_type": "markdown",
   "source": "# Creating a function to filter only the europian characters",
   "id": "c6d6ea627e0b21ae"
  },
  {
   "cell_type": "code",
   "source": [
    "def contains_only_european_chars(s):\n",
    "    return re.match(r'^[a-zA-Z0-9\\s\\.,;:!?\\-\\'\\\"()€£\\u00C0-\\u017F]+$', s) is not None"
   ],
   "metadata": {
    "collapsed": false,
    "ExecuteTime": {
     "end_time": "2024-06-28T09:04:01.273309Z",
     "start_time": "2024-06-28T09:04:01.269822Z"
    }
   },
   "id": "2bf5eca437c9a5c9",
   "outputs": [],
   "execution_count": 5
  },
  {
   "metadata": {},
   "cell_type": "markdown",
   "source": "# Applying the function to the player_name column",
   "id": "cb584d28c79e8d8f"
  },
  {
   "cell_type": "code",
   "source": [
    "df['player_name'] =df['player_name'].astype('str')\n",
    "df_filtered = df[df['player_name'].apply(contains_only_european_chars)]"
   ],
   "metadata": {
    "collapsed": false,
    "ExecuteTime": {
     "end_time": "2024-06-28T09:04:01.491840Z",
     "start_time": "2024-06-28T09:04:01.275033Z"
    }
   },
   "id": "4c0d1b1993a53210",
   "outputs": [],
   "execution_count": 6
  },
  {
   "cell_type": "code",
   "source": [
    "df_filtered.shape"
   ],
   "metadata": {
    "collapsed": false,
    "ExecuteTime": {
     "end_time": "2024-06-28T09:04:01.500278Z",
     "start_time": "2024-06-28T09:04:01.495371Z"
    }
   },
   "id": "380a164c8818dd38",
   "outputs": [
    {
     "data": {
      "text/plain": [
       "(118963, 9)"
      ]
     },
     "execution_count": 7,
     "metadata": {},
     "output_type": "execute_result"
    }
   ],
   "execution_count": 7
  },
  {
   "metadata": {},
   "cell_type": "markdown",
   "source": "# Checking the dataset to match the clubs and games datasets",
   "id": "94efe8c123fe2724"
  },
  {
   "cell_type": "code",
   "source": [
    "filtered_clubs = pd.read_csv('/home/lorenzo/Documents/3-TERZO-ANNO/IUMTWEB/Manipulated_data/clubs.csv')\n",
    "filtered_games = pd.read_csv('/home/lorenzo/Documents/3-TERZO-ANNO/IUMTWEB/Manipulated_data/games.csv')\n",
    "df_filtered_filtered = df_filtered[df_filtered['club_id'].isin(filtered_clubs['club_id'])]\n",
    "df_filtered_filtered = df_filtered_filtered[df_filtered_filtered['game_id'].isin(filtered_games['game_id'])]\n",
    "df_filtered_filtered"
   ],
   "metadata": {
    "collapsed": false,
    "ExecuteTime": {
     "end_time": "2024-06-28T09:04:01.757839Z",
     "start_time": "2024-06-28T09:04:01.501760Z"
    }
   },
   "id": "effc7e7b094ffb2e",
   "outputs": [
    {
     "data": {
      "text/plain": [
       "                         game_lineups_id  game_id  club_id             type  \\\n",
       "0       77b0f371923e0c8bdf050a1e269faaac  3606208      338  starting_lineup   \n",
       "1       cb6eeedb9f728570615d37b6fe7facaf  3606208      338  starting_lineup   \n",
       "2       8e63d5f47aac2bdb0e54f5481986e104  3606208      338  starting_lineup   \n",
       "3       ea4a96d8be410f2d646cf095c4faae7f  3606208      338  starting_lineup   \n",
       "4       e6abe553801b09bc623c3deb96acba17  3606208      338  starting_lineup   \n",
       "...                                  ...      ...      ...              ...   \n",
       "118693  3b2d7b3548028aa0968ede514ad08a8f  4225546    49702      substitutes   \n",
       "118694  f9d35ab84d312a11060ad60c8ebbd6c9  4225546    49702      substitutes   \n",
       "118695  308d9472e52949b3de57e783d9217241  4225546    49702      substitutes   \n",
       "118696  23178eee031d1cea40cc7fb54988b7cb  4225546    49702      substitutes   \n",
       "118697  fbc91737f3075c76de45b9075f072a4d  4225546    49702      substitutes   \n",
       "\n",
       "       number  player_id           player_name  team_captain  \\\n",
       "0          89     419061    Vladyslav Supryaga             0   \n",
       "1          10     368611     Mykola Shaparenko             0   \n",
       "2           5     124182      Sergiy Sydorchuk             1   \n",
       "3          94     181118       Tomasz Kedziora             0   \n",
       "4          16     404842     Vitaliy Mykolenko             0   \n",
       "...       ...        ...                   ...           ...   \n",
       "118693     34     917980          Anton Mukhin             0   \n",
       "118694      4     443778         Ilya Zhigulev             0   \n",
       "118695     65     671829  Nikolay Tolstopyatov             0   \n",
       "118696     27     178335  Dmitriy Zhivoglyadov             0   \n",
       "118697     13     104700       Ilya Kukharchuk             0   \n",
       "\n",
       "                  position  \n",
       "0           Centre-Forward  \n",
       "1         Central Midfield  \n",
       "2       Defensive Midfield  \n",
       "3               Right-Back  \n",
       "4                Left-Back  \n",
       "...                    ...  \n",
       "118693  Defensive Midfield  \n",
       "118694  Attacking Midfield  \n",
       "118695         Centre-Back  \n",
       "118696          Right-Back  \n",
       "118697        Right Winger  \n",
       "\n",
       "[73503 rows x 9 columns]"
      ],
      "text/html": [
       "<div>\n",
       "<style scoped>\n",
       "    .dataframe tbody tr th:only-of-type {\n",
       "        vertical-align: middle;\n",
       "    }\n",
       "\n",
       "    .dataframe tbody tr th {\n",
       "        vertical-align: top;\n",
       "    }\n",
       "\n",
       "    .dataframe thead th {\n",
       "        text-align: right;\n",
       "    }\n",
       "</style>\n",
       "<table border=\"1\" class=\"dataframe\">\n",
       "  <thead>\n",
       "    <tr style=\"text-align: right;\">\n",
       "      <th></th>\n",
       "      <th>game_lineups_id</th>\n",
       "      <th>game_id</th>\n",
       "      <th>club_id</th>\n",
       "      <th>type</th>\n",
       "      <th>number</th>\n",
       "      <th>player_id</th>\n",
       "      <th>player_name</th>\n",
       "      <th>team_captain</th>\n",
       "      <th>position</th>\n",
       "    </tr>\n",
       "  </thead>\n",
       "  <tbody>\n",
       "    <tr>\n",
       "      <th>0</th>\n",
       "      <td>77b0f371923e0c8bdf050a1e269faaac</td>\n",
       "      <td>3606208</td>\n",
       "      <td>338</td>\n",
       "      <td>starting_lineup</td>\n",
       "      <td>89</td>\n",
       "      <td>419061</td>\n",
       "      <td>Vladyslav Supryaga</td>\n",
       "      <td>0</td>\n",
       "      <td>Centre-Forward</td>\n",
       "    </tr>\n",
       "    <tr>\n",
       "      <th>1</th>\n",
       "      <td>cb6eeedb9f728570615d37b6fe7facaf</td>\n",
       "      <td>3606208</td>\n",
       "      <td>338</td>\n",
       "      <td>starting_lineup</td>\n",
       "      <td>10</td>\n",
       "      <td>368611</td>\n",
       "      <td>Mykola Shaparenko</td>\n",
       "      <td>0</td>\n",
       "      <td>Central Midfield</td>\n",
       "    </tr>\n",
       "    <tr>\n",
       "      <th>2</th>\n",
       "      <td>8e63d5f47aac2bdb0e54f5481986e104</td>\n",
       "      <td>3606208</td>\n",
       "      <td>338</td>\n",
       "      <td>starting_lineup</td>\n",
       "      <td>5</td>\n",
       "      <td>124182</td>\n",
       "      <td>Sergiy Sydorchuk</td>\n",
       "      <td>1</td>\n",
       "      <td>Defensive Midfield</td>\n",
       "    </tr>\n",
       "    <tr>\n",
       "      <th>3</th>\n",
       "      <td>ea4a96d8be410f2d646cf095c4faae7f</td>\n",
       "      <td>3606208</td>\n",
       "      <td>338</td>\n",
       "      <td>starting_lineup</td>\n",
       "      <td>94</td>\n",
       "      <td>181118</td>\n",
       "      <td>Tomasz Kedziora</td>\n",
       "      <td>0</td>\n",
       "      <td>Right-Back</td>\n",
       "    </tr>\n",
       "    <tr>\n",
       "      <th>4</th>\n",
       "      <td>e6abe553801b09bc623c3deb96acba17</td>\n",
       "      <td>3606208</td>\n",
       "      <td>338</td>\n",
       "      <td>starting_lineup</td>\n",
       "      <td>16</td>\n",
       "      <td>404842</td>\n",
       "      <td>Vitaliy Mykolenko</td>\n",
       "      <td>0</td>\n",
       "      <td>Left-Back</td>\n",
       "    </tr>\n",
       "    <tr>\n",
       "      <th>...</th>\n",
       "      <td>...</td>\n",
       "      <td>...</td>\n",
       "      <td>...</td>\n",
       "      <td>...</td>\n",
       "      <td>...</td>\n",
       "      <td>...</td>\n",
       "      <td>...</td>\n",
       "      <td>...</td>\n",
       "      <td>...</td>\n",
       "    </tr>\n",
       "    <tr>\n",
       "      <th>118693</th>\n",
       "      <td>3b2d7b3548028aa0968ede514ad08a8f</td>\n",
       "      <td>4225546</td>\n",
       "      <td>49702</td>\n",
       "      <td>substitutes</td>\n",
       "      <td>34</td>\n",
       "      <td>917980</td>\n",
       "      <td>Anton Mukhin</td>\n",
       "      <td>0</td>\n",
       "      <td>Defensive Midfield</td>\n",
       "    </tr>\n",
       "    <tr>\n",
       "      <th>118694</th>\n",
       "      <td>f9d35ab84d312a11060ad60c8ebbd6c9</td>\n",
       "      <td>4225546</td>\n",
       "      <td>49702</td>\n",
       "      <td>substitutes</td>\n",
       "      <td>4</td>\n",
       "      <td>443778</td>\n",
       "      <td>Ilya Zhigulev</td>\n",
       "      <td>0</td>\n",
       "      <td>Attacking Midfield</td>\n",
       "    </tr>\n",
       "    <tr>\n",
       "      <th>118695</th>\n",
       "      <td>308d9472e52949b3de57e783d9217241</td>\n",
       "      <td>4225546</td>\n",
       "      <td>49702</td>\n",
       "      <td>substitutes</td>\n",
       "      <td>65</td>\n",
       "      <td>671829</td>\n",
       "      <td>Nikolay Tolstopyatov</td>\n",
       "      <td>0</td>\n",
       "      <td>Centre-Back</td>\n",
       "    </tr>\n",
       "    <tr>\n",
       "      <th>118696</th>\n",
       "      <td>23178eee031d1cea40cc7fb54988b7cb</td>\n",
       "      <td>4225546</td>\n",
       "      <td>49702</td>\n",
       "      <td>substitutes</td>\n",
       "      <td>27</td>\n",
       "      <td>178335</td>\n",
       "      <td>Dmitriy Zhivoglyadov</td>\n",
       "      <td>0</td>\n",
       "      <td>Right-Back</td>\n",
       "    </tr>\n",
       "    <tr>\n",
       "      <th>118697</th>\n",
       "      <td>fbc91737f3075c76de45b9075f072a4d</td>\n",
       "      <td>4225546</td>\n",
       "      <td>49702</td>\n",
       "      <td>substitutes</td>\n",
       "      <td>13</td>\n",
       "      <td>104700</td>\n",
       "      <td>Ilya Kukharchuk</td>\n",
       "      <td>0</td>\n",
       "      <td>Right Winger</td>\n",
       "    </tr>\n",
       "  </tbody>\n",
       "</table>\n",
       "<p>73503 rows × 9 columns</p>\n",
       "</div>"
      ]
     },
     "execution_count": 8,
     "metadata": {},
     "output_type": "execute_result"
    }
   ],
   "execution_count": 8
  },
  {
   "metadata": {},
   "cell_type": "markdown",
   "source": "# Saving the filtered dataset",
   "id": "37c1df7152ba5c43"
  },
  {
   "cell_type": "code",
   "source": "df_filtered_filtered.to_csv('/home/lorenzo/Documents/3-TERZO-ANNO/IUMTWEB/Manipulated_data/game_lineups.csv',index=False)",
   "metadata": {
    "collapsed": false,
    "ExecuteTime": {
     "end_time": "2024-06-28T09:04:02.174217Z",
     "start_time": "2024-06-28T09:04:01.759200Z"
    }
   },
   "id": "bfbe0262e327d13f",
   "outputs": [],
   "execution_count": 9
  }
 ],
 "metadata": {
  "kernelspec": {
   "display_name": "Python 3",
   "language": "python",
   "name": "python3"
  },
  "language_info": {
   "codemirror_mode": {
    "name": "ipython",
    "version": 2
   },
   "file_extension": ".py",
   "mimetype": "text/x-python",
   "name": "python",
   "nbconvert_exporter": "python",
   "pygments_lexer": "ipython2",
   "version": "2.7.6"
  }
 },
 "nbformat": 4,
 "nbformat_minor": 5
}
