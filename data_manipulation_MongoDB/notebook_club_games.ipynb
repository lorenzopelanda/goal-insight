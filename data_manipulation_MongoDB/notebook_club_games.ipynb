{
 "cells": [
  {
   "metadata": {},
   "cell_type": "markdown",
   "source": "# Importing the necessary libraries and the dataset",
   "id": "c99db8b9f803fbe3"
  },
  {
   "cell_type": "code",
   "id": "initial_id",
   "metadata": {
    "collapsed": true,
    "ExecuteTime": {
     "end_time": "2024-06-28T09:03:57.389969Z",
     "start_time": "2024-06-28T09:03:56.986043Z"
    }
   },
   "source": [
    "import pandas as pd\n",
    "import re"
   ],
   "outputs": [],
   "execution_count": 1
  },
  {
   "cell_type": "code",
   "source": [
    "df =pd.read_csv('/home/lorenzo/Documents/3-TERZO-ANNO/IUMTWEB/CSV_progetto/club_games.csv')\n",
    "df.shape"
   ],
   "metadata": {
    "collapsed": false,
    "ExecuteTime": {
     "end_time": "2024-06-28T09:03:57.704505Z",
     "start_time": "2024-06-28T09:03:57.393172Z"
    }
   },
   "id": "aa9c02bda2f0d09c",
   "outputs": [
    {
     "data": {
      "text/plain": [
       "(130432, 11)"
      ]
     },
     "execution_count": 2,
     "metadata": {},
     "output_type": "execute_result"
    }
   ],
   "execution_count": 2
  },
  {
   "metadata": {},
   "cell_type": "markdown",
   "source": "# Checking the types of the columns",
   "id": "defd170876235299"
  },
  {
   "cell_type": "code",
   "source": [
    "df.dtypes"
   ],
   "metadata": {
    "collapsed": false,
    "ExecuteTime": {
     "end_time": "2024-06-28T09:03:57.717963Z",
     "start_time": "2024-06-28T09:03:57.707743Z"
    }
   },
   "id": "56e064bf7da43865",
   "outputs": [
    {
     "data": {
      "text/plain": [
       "game_id                    int64\n",
       "club_id                    int64\n",
       "own_goals                  int64\n",
       "own_position             float64\n",
       "own_manager_name          object\n",
       "opponent_id                int64\n",
       "opponent_goals             int64\n",
       "opponent_position        float64\n",
       "opponent_manager_name     object\n",
       "hosting                   object\n",
       "is_win                     int64\n",
       "dtype: object"
      ]
     },
     "execution_count": 3,
     "metadata": {},
     "output_type": "execute_result"
    }
   ],
   "execution_count": 3
  },
  {
   "metadata": {},
   "cell_type": "markdown",
   "source": "# Creating a function to filter only the europian characters",
   "id": "7fbb40b1301a0bb1"
  },
  {
   "cell_type": "code",
   "source": [
    "def contains_only_european_chars(s):\n",
    "    return re.match(r'^[a-zA-Z0-9\\s\\.,;:!?\\-\\'\\\"()€£\\u00C0-\\u017F]+$', s) is not None\n"
   ],
   "metadata": {
    "collapsed": false,
    "ExecuteTime": {
     "end_time": "2024-06-28T09:03:57.730054Z",
     "start_time": "2024-06-28T09:03:57.721741Z"
    }
   },
   "id": "eeec46a91e57b7cf",
   "outputs": [],
   "execution_count": 4
  },
  {
   "metadata": {},
   "cell_type": "markdown",
   "source": "# Changing the type of the columns, than apply the function to filter only the european characters",
   "id": "2e446444e99c0829"
  },
  {
   "cell_type": "code",
   "source": [
    "df['own_manager_name'] = df['own_manager_name'].astype('str')\n",
    "df['opponent_manager_name'] = df['opponent_manager_name'].astype('str')\n",
    "columns_to_filter = ['own_manager_name','opponent_manager_name']\n",
    "for column in columns_to_filter:\n",
    "    df_filtered = df[df[column].apply(contains_only_european_chars)]"
   ],
   "metadata": {
    "collapsed": false,
    "ExecuteTime": {
     "end_time": "2024-06-28T09:03:58.072762Z",
     "start_time": "2024-06-28T09:03:57.731379Z"
    }
   },
   "id": "5e44933941e95cc6",
   "outputs": [],
   "execution_count": 5
  },
  {
   "cell_type": "code",
   "source": [
    "df_filtered.shape"
   ],
   "metadata": {
    "collapsed": false,
    "ExecuteTime": {
     "end_time": "2024-06-28T09:03:58.077932Z",
     "start_time": "2024-06-28T09:03:58.074012Z"
    }
   },
   "id": "cb3c1cbca9f07d36",
   "outputs": [
    {
     "data": {
      "text/plain": [
       "(130430, 11)"
      ]
     },
     "execution_count": 6,
     "metadata": {},
     "output_type": "execute_result"
    }
   ],
   "execution_count": 6
  },
  {
   "metadata": {},
   "cell_type": "markdown",
   "source": "# Checking the columns with missing values",
   "id": "e371051afb09a3f"
  },
  {
   "cell_type": "code",
   "source": [
    "df_filtered.isna().sum()"
   ],
   "metadata": {
    "collapsed": false,
    "ExecuteTime": {
     "end_time": "2024-06-28T09:03:58.131223Z",
     "start_time": "2024-06-28T09:03:58.079568Z"
    }
   },
   "id": "c03fba7ab9df919c",
   "outputs": [
    {
     "data": {
      "text/plain": [
       "game_id                      0\n",
       "club_id                      0\n",
       "own_goals                    0\n",
       "own_position             38908\n",
       "own_manager_name             0\n",
       "opponent_id                  0\n",
       "opponent_goals               0\n",
       "opponent_position        38908\n",
       "opponent_manager_name        0\n",
       "hosting                      0\n",
       "is_win                       0\n",
       "dtype: int64"
      ]
     },
     "execution_count": 7,
     "metadata": {},
     "output_type": "execute_result"
    }
   ],
   "execution_count": 7
  },
  {
   "metadata": {},
   "cell_type": "markdown",
   "source": "# Dropping the columns with missing values",
   "id": "4d1f4fcbafd61e56"
  },
  {
   "cell_type": "code",
   "source": [
    "df_filtered = df_filtered.copy()\n",
    "df_filtered.drop(columns=['own_position','opponent_position'], inplace=True)\n"
   ],
   "metadata": {
    "collapsed": false,
    "ExecuteTime": {
     "end_time": "2024-06-28T09:03:58.162392Z",
     "start_time": "2024-06-28T09:03:58.133958Z"
    }
   },
   "id": "13803239177c9c0d",
   "outputs": [],
   "execution_count": 8
  },
  {
   "cell_type": "code",
   "source": [
    "df_filtered"
   ],
   "metadata": {
    "collapsed": false,
    "ExecuteTime": {
     "end_time": "2024-06-28T09:03:58.190080Z",
     "start_time": "2024-06-28T09:03:58.164319Z"
    }
   },
   "id": "d655e1927b97aba3",
   "outputs": [
    {
     "data": {
      "text/plain": [
       "        game_id  club_id  own_goals      own_manager_name  opponent_id  \\\n",
       "0       2221751      431          1         Lutz Göttling           60   \n",
       "1       2221755       83          3      Ralph Hasenhüttl         4795   \n",
       "2       2222597     3725          2  Stanislav Cherchesov          232   \n",
       "3       2222627     2696          0        Andrey Kobelev         4128   \n",
       "4       2222658     2410          0        Leonid Slutski          121   \n",
       "...         ...      ...        ...                   ...          ...   \n",
       "130427  4126931    20923          2       Sergey Perednya        12065   \n",
       "130428  4148237      920          0      Ruaidhri Higgins        10481   \n",
       "130429  4171268      681          2       Imanol Alguacil          409   \n",
       "130430  4148252      144          3      Sergej Jakirovic        10532   \n",
       "130431  4171248      418          3       Carlo Ancelotti         6195   \n",
       "\n",
       "        opponent_goals opponent_manager_name hosting  is_win  \n",
       "0                    2     Christian Streich    Home       0  \n",
       "1                    0            Tomas Oral    Home       1  \n",
       "2                    1            Unai Emery    Home       1  \n",
       "3                    2         Rustem Khuzin    Home       0  \n",
       "4                    2          Dan Petrescu    Home       0  \n",
       "...                ...                   ...     ...     ...  \n",
       "130427               1   Aleksandr Gorbachev    Away       1  \n",
       "130428               1          Milic Curcic    Away       0  \n",
       "130429               0       Gerhard Struber    Away       1  \n",
       "130430               1          Dan Brimsvík    Away       1  \n",
       "130431               2           Rudi Garcia    Away       1  \n",
       "\n",
       "[130430 rows x 9 columns]"
      ],
      "text/html": [
       "<div>\n",
       "<style scoped>\n",
       "    .dataframe tbody tr th:only-of-type {\n",
       "        vertical-align: middle;\n",
       "    }\n",
       "\n",
       "    .dataframe tbody tr th {\n",
       "        vertical-align: top;\n",
       "    }\n",
       "\n",
       "    .dataframe thead th {\n",
       "        text-align: right;\n",
       "    }\n",
       "</style>\n",
       "<table border=\"1\" class=\"dataframe\">\n",
       "  <thead>\n",
       "    <tr style=\"text-align: right;\">\n",
       "      <th></th>\n",
       "      <th>game_id</th>\n",
       "      <th>club_id</th>\n",
       "      <th>own_goals</th>\n",
       "      <th>own_manager_name</th>\n",
       "      <th>opponent_id</th>\n",
       "      <th>opponent_goals</th>\n",
       "      <th>opponent_manager_name</th>\n",
       "      <th>hosting</th>\n",
       "      <th>is_win</th>\n",
       "    </tr>\n",
       "  </thead>\n",
       "  <tbody>\n",
       "    <tr>\n",
       "      <th>0</th>\n",
       "      <td>2221751</td>\n",
       "      <td>431</td>\n",
       "      <td>1</td>\n",
       "      <td>Lutz Göttling</td>\n",
       "      <td>60</td>\n",
       "      <td>2</td>\n",
       "      <td>Christian Streich</td>\n",
       "      <td>Home</td>\n",
       "      <td>0</td>\n",
       "    </tr>\n",
       "    <tr>\n",
       "      <th>1</th>\n",
       "      <td>2221755</td>\n",
       "      <td>83</td>\n",
       "      <td>3</td>\n",
       "      <td>Ralph Hasenhüttl</td>\n",
       "      <td>4795</td>\n",
       "      <td>0</td>\n",
       "      <td>Tomas Oral</td>\n",
       "      <td>Home</td>\n",
       "      <td>1</td>\n",
       "    </tr>\n",
       "    <tr>\n",
       "      <th>2</th>\n",
       "      <td>2222597</td>\n",
       "      <td>3725</td>\n",
       "      <td>2</td>\n",
       "      <td>Stanislav Cherchesov</td>\n",
       "      <td>232</td>\n",
       "      <td>1</td>\n",
       "      <td>Unai Emery</td>\n",
       "      <td>Home</td>\n",
       "      <td>1</td>\n",
       "    </tr>\n",
       "    <tr>\n",
       "      <th>3</th>\n",
       "      <td>2222627</td>\n",
       "      <td>2696</td>\n",
       "      <td>0</td>\n",
       "      <td>Andrey Kobelev</td>\n",
       "      <td>4128</td>\n",
       "      <td>2</td>\n",
       "      <td>Rustem Khuzin</td>\n",
       "      <td>Home</td>\n",
       "      <td>0</td>\n",
       "    </tr>\n",
       "    <tr>\n",
       "      <th>4</th>\n",
       "      <td>2222658</td>\n",
       "      <td>2410</td>\n",
       "      <td>0</td>\n",
       "      <td>Leonid Slutski</td>\n",
       "      <td>121</td>\n",
       "      <td>2</td>\n",
       "      <td>Dan Petrescu</td>\n",
       "      <td>Home</td>\n",
       "      <td>0</td>\n",
       "    </tr>\n",
       "    <tr>\n",
       "      <th>...</th>\n",
       "      <td>...</td>\n",
       "      <td>...</td>\n",
       "      <td>...</td>\n",
       "      <td>...</td>\n",
       "      <td>...</td>\n",
       "      <td>...</td>\n",
       "      <td>...</td>\n",
       "      <td>...</td>\n",
       "      <td>...</td>\n",
       "    </tr>\n",
       "    <tr>\n",
       "      <th>130427</th>\n",
       "      <td>4126931</td>\n",
       "      <td>20923</td>\n",
       "      <td>2</td>\n",
       "      <td>Sergey Perednya</td>\n",
       "      <td>12065</td>\n",
       "      <td>1</td>\n",
       "      <td>Aleksandr Gorbachev</td>\n",
       "      <td>Away</td>\n",
       "      <td>1</td>\n",
       "    </tr>\n",
       "    <tr>\n",
       "      <th>130428</th>\n",
       "      <td>4148237</td>\n",
       "      <td>920</td>\n",
       "      <td>0</td>\n",
       "      <td>Ruaidhri Higgins</td>\n",
       "      <td>10481</td>\n",
       "      <td>1</td>\n",
       "      <td>Milic Curcic</td>\n",
       "      <td>Away</td>\n",
       "      <td>0</td>\n",
       "    </tr>\n",
       "    <tr>\n",
       "      <th>130429</th>\n",
       "      <td>4171268</td>\n",
       "      <td>681</td>\n",
       "      <td>2</td>\n",
       "      <td>Imanol Alguacil</td>\n",
       "      <td>409</td>\n",
       "      <td>0</td>\n",
       "      <td>Gerhard Struber</td>\n",
       "      <td>Away</td>\n",
       "      <td>1</td>\n",
       "    </tr>\n",
       "    <tr>\n",
       "      <th>130430</th>\n",
       "      <td>4148252</td>\n",
       "      <td>144</td>\n",
       "      <td>3</td>\n",
       "      <td>Sergej Jakirovic</td>\n",
       "      <td>10532</td>\n",
       "      <td>1</td>\n",
       "      <td>Dan Brimsvík</td>\n",
       "      <td>Away</td>\n",
       "      <td>1</td>\n",
       "    </tr>\n",
       "    <tr>\n",
       "      <th>130431</th>\n",
       "      <td>4171248</td>\n",
       "      <td>418</td>\n",
       "      <td>3</td>\n",
       "      <td>Carlo Ancelotti</td>\n",
       "      <td>6195</td>\n",
       "      <td>2</td>\n",
       "      <td>Rudi Garcia</td>\n",
       "      <td>Away</td>\n",
       "      <td>1</td>\n",
       "    </tr>\n",
       "  </tbody>\n",
       "</table>\n",
       "<p>130430 rows × 9 columns</p>\n",
       "</div>"
      ]
     },
     "execution_count": 9,
     "metadata": {},
     "output_type": "execute_result"
    }
   ],
   "execution_count": 9
  },
  {
   "cell_type": "code",
   "source": [
    "df_filtered.dtypes"
   ],
   "metadata": {
    "collapsed": false,
    "ExecuteTime": {
     "end_time": "2024-06-28T09:03:58.200722Z",
     "start_time": "2024-06-28T09:03:58.193044Z"
    }
   },
   "id": "26581115b5063626",
   "outputs": [
    {
     "data": {
      "text/plain": [
       "game_id                   int64\n",
       "club_id                   int64\n",
       "own_goals                 int64\n",
       "own_manager_name         object\n",
       "opponent_id               int64\n",
       "opponent_goals            int64\n",
       "opponent_manager_name    object\n",
       "hosting                  object\n",
       "is_win                    int64\n",
       "dtype: object"
      ]
     },
     "execution_count": 10,
     "metadata": {},
     "output_type": "execute_result"
    }
   ],
   "execution_count": 10
  },
  {
   "metadata": {},
   "cell_type": "markdown",
   "source": "# Changing the type of the columns",
   "id": "78e2ec50ac35da03"
  },
  {
   "cell_type": "code",
   "source": [
    "df_filtered.loc[:,'own_manager_name'] = df_filtered['own_manager_name'].astype('str')\n",
    "df_filtered.loc[:,'opponent_manager_name'] = df_filtered['opponent_manager_name'].astype('str')\n",
    "df_filtered.loc[:,'hosting'] = df_filtered['hosting'].astype('str')"
   ],
   "metadata": {
    "collapsed": false,
    "ExecuteTime": {
     "end_time": "2024-06-28T09:03:58.226713Z",
     "start_time": "2024-06-28T09:03:58.204406Z"
    }
   },
   "id": "7404a182b3721311",
   "outputs": [],
   "execution_count": 11
  },
  {
   "metadata": {},
   "cell_type": "markdown",
   "source": "# Checking the dataset to match the clubs dataset",
   "id": "8142c0cb82e06cb8"
  },
  {
   "cell_type": "code",
   "source": [
    "df_filtered_club = pd.read_csv('/home/lorenzo/Documents/3-TERZO-ANNO/IUMTWEB/Manipulated_data/clubs.csv')\n",
    "df_filtered_filtered = df_filtered[df_filtered['club_id'].isin(df_filtered_club['club_id'])]\n",
    "df_filtered_filtered = df_filtered_filtered[df_filtered_filtered['opponent_id'].isin(df_filtered_club['club_id'])]\n",
    "df_filtered_filtered"
   ],
   "metadata": {
    "collapsed": false,
    "ExecuteTime": {
     "end_time": "2024-06-28T09:03:58.264515Z",
     "start_time": "2024-06-28T09:03:58.228657Z"
    }
   },
   "id": "89703cdef157a17a",
   "outputs": [
    {
     "data": {
      "text/plain": [
       "        game_id  club_id  own_goals      own_manager_name  opponent_id  \\\n",
       "2       2222597     3725          2  Stanislav Cherchesov          232   \n",
       "3       2222627     2696          0        Andrey Kobelev         4128   \n",
       "4       2222658     2410          0        Leonid Slutski          121   \n",
       "6       2222683     2696          0        Andrey Kobelev        12438   \n",
       "7       2222685     2698          0        Kurban Berdyev          232   \n",
       "...         ...      ...        ...                   ...          ...   \n",
       "130423  4095969       39          1           Bo Svensson           89   \n",
       "130424  4098048      383          3            Peter Bosz          317   \n",
       "130425  4120903      370          0          Barry Robson         2553   \n",
       "130426  4126817      126          3           İlhan Palut          449   \n",
       "130431  4171248      418          3       Carlo Ancelotti         6195   \n",
       "\n",
       "        opponent_goals opponent_manager_name hosting  is_win  \n",
       "2                    1            Unai Emery    Home       1  \n",
       "3                    2         Rustem Khuzin    Home       0  \n",
       "4                    2          Dan Petrescu    Home       0  \n",
       "6                    1       Gadzhi Gadzhiev    Home       0  \n",
       "7                    1        Valeriy Karpin    Home       0  \n",
       "...                ...                   ...     ...     ...  \n",
       "130423               4           Urs Fischer    Away       0  \n",
       "130424               0        Joseph Oosting    Away       1  \n",
       "130425               2         Derek McInnes    Away       0  \n",
       "130426               2         Nenad Bjelica    Away       1  \n",
       "130431               2           Rudi Garcia    Away       1  \n",
       "\n",
       "[99972 rows x 9 columns]"
      ],
      "text/html": [
       "<div>\n",
       "<style scoped>\n",
       "    .dataframe tbody tr th:only-of-type {\n",
       "        vertical-align: middle;\n",
       "    }\n",
       "\n",
       "    .dataframe tbody tr th {\n",
       "        vertical-align: top;\n",
       "    }\n",
       "\n",
       "    .dataframe thead th {\n",
       "        text-align: right;\n",
       "    }\n",
       "</style>\n",
       "<table border=\"1\" class=\"dataframe\">\n",
       "  <thead>\n",
       "    <tr style=\"text-align: right;\">\n",
       "      <th></th>\n",
       "      <th>game_id</th>\n",
       "      <th>club_id</th>\n",
       "      <th>own_goals</th>\n",
       "      <th>own_manager_name</th>\n",
       "      <th>opponent_id</th>\n",
       "      <th>opponent_goals</th>\n",
       "      <th>opponent_manager_name</th>\n",
       "      <th>hosting</th>\n",
       "      <th>is_win</th>\n",
       "    </tr>\n",
       "  </thead>\n",
       "  <tbody>\n",
       "    <tr>\n",
       "      <th>2</th>\n",
       "      <td>2222597</td>\n",
       "      <td>3725</td>\n",
       "      <td>2</td>\n",
       "      <td>Stanislav Cherchesov</td>\n",
       "      <td>232</td>\n",
       "      <td>1</td>\n",
       "      <td>Unai Emery</td>\n",
       "      <td>Home</td>\n",
       "      <td>1</td>\n",
       "    </tr>\n",
       "    <tr>\n",
       "      <th>3</th>\n",
       "      <td>2222627</td>\n",
       "      <td>2696</td>\n",
       "      <td>0</td>\n",
       "      <td>Andrey Kobelev</td>\n",
       "      <td>4128</td>\n",
       "      <td>2</td>\n",
       "      <td>Rustem Khuzin</td>\n",
       "      <td>Home</td>\n",
       "      <td>0</td>\n",
       "    </tr>\n",
       "    <tr>\n",
       "      <th>4</th>\n",
       "      <td>2222658</td>\n",
       "      <td>2410</td>\n",
       "      <td>0</td>\n",
       "      <td>Leonid Slutski</td>\n",
       "      <td>121</td>\n",
       "      <td>2</td>\n",
       "      <td>Dan Petrescu</td>\n",
       "      <td>Home</td>\n",
       "      <td>0</td>\n",
       "    </tr>\n",
       "    <tr>\n",
       "      <th>6</th>\n",
       "      <td>2222683</td>\n",
       "      <td>2696</td>\n",
       "      <td>0</td>\n",
       "      <td>Andrey Kobelev</td>\n",
       "      <td>12438</td>\n",
       "      <td>1</td>\n",
       "      <td>Gadzhi Gadzhiev</td>\n",
       "      <td>Home</td>\n",
       "      <td>0</td>\n",
       "    </tr>\n",
       "    <tr>\n",
       "      <th>7</th>\n",
       "      <td>2222685</td>\n",
       "      <td>2698</td>\n",
       "      <td>0</td>\n",
       "      <td>Kurban Berdyev</td>\n",
       "      <td>232</td>\n",
       "      <td>1</td>\n",
       "      <td>Valeriy Karpin</td>\n",
       "      <td>Home</td>\n",
       "      <td>0</td>\n",
       "    </tr>\n",
       "    <tr>\n",
       "      <th>...</th>\n",
       "      <td>...</td>\n",
       "      <td>...</td>\n",
       "      <td>...</td>\n",
       "      <td>...</td>\n",
       "      <td>...</td>\n",
       "      <td>...</td>\n",
       "      <td>...</td>\n",
       "      <td>...</td>\n",
       "      <td>...</td>\n",
       "    </tr>\n",
       "    <tr>\n",
       "      <th>130423</th>\n",
       "      <td>4095969</td>\n",
       "      <td>39</td>\n",
       "      <td>1</td>\n",
       "      <td>Bo Svensson</td>\n",
       "      <td>89</td>\n",
       "      <td>4</td>\n",
       "      <td>Urs Fischer</td>\n",
       "      <td>Away</td>\n",
       "      <td>0</td>\n",
       "    </tr>\n",
       "    <tr>\n",
       "      <th>130424</th>\n",
       "      <td>4098048</td>\n",
       "      <td>383</td>\n",
       "      <td>3</td>\n",
       "      <td>Peter Bosz</td>\n",
       "      <td>317</td>\n",
       "      <td>0</td>\n",
       "      <td>Joseph Oosting</td>\n",
       "      <td>Away</td>\n",
       "      <td>1</td>\n",
       "    </tr>\n",
       "    <tr>\n",
       "      <th>130425</th>\n",
       "      <td>4120903</td>\n",
       "      <td>370</td>\n",
       "      <td>0</td>\n",
       "      <td>Barry Robson</td>\n",
       "      <td>2553</td>\n",
       "      <td>2</td>\n",
       "      <td>Derek McInnes</td>\n",
       "      <td>Away</td>\n",
       "      <td>0</td>\n",
       "    </tr>\n",
       "    <tr>\n",
       "      <th>130426</th>\n",
       "      <td>4126817</td>\n",
       "      <td>126</td>\n",
       "      <td>3</td>\n",
       "      <td>İlhan Palut</td>\n",
       "      <td>449</td>\n",
       "      <td>2</td>\n",
       "      <td>Nenad Bjelica</td>\n",
       "      <td>Away</td>\n",
       "      <td>1</td>\n",
       "    </tr>\n",
       "    <tr>\n",
       "      <th>130431</th>\n",
       "      <td>4171248</td>\n",
       "      <td>418</td>\n",
       "      <td>3</td>\n",
       "      <td>Carlo Ancelotti</td>\n",
       "      <td>6195</td>\n",
       "      <td>2</td>\n",
       "      <td>Rudi Garcia</td>\n",
       "      <td>Away</td>\n",
       "      <td>1</td>\n",
       "    </tr>\n",
       "  </tbody>\n",
       "</table>\n",
       "<p>99972 rows × 9 columns</p>\n",
       "</div>"
      ]
     },
     "execution_count": 12,
     "metadata": {},
     "output_type": "execute_result"
    }
   ],
   "execution_count": 12
  },
  {
   "metadata": {},
   "cell_type": "markdown",
   "source": "# Saving the dataset",
   "id": "ae5e6a489caccc5"
  },
  {
   "cell_type": "code",
   "source": "df_filtered_filtered.to_csv('/home/lorenzo/Documents/3-TERZO-ANNO/IUMTWEB/Manipulated_data/club_games.csv',index=False)",
   "metadata": {
    "collapsed": false,
    "ExecuteTime": {
     "end_time": "2024-06-28T09:03:58.591717Z",
     "start_time": "2024-06-28T09:03:58.265556Z"
    }
   },
   "id": "69d228cddc702309",
   "outputs": [],
   "execution_count": 13
  }
 ],
 "metadata": {
  "kernelspec": {
   "display_name": "Python 3",
   "language": "python",
   "name": "python3"
  },
  "language_info": {
   "codemirror_mode": {
    "name": "ipython",
    "version": 2
   },
   "file_extension": ".py",
   "mimetype": "text/x-python",
   "name": "python",
   "nbconvert_exporter": "python",
   "pygments_lexer": "ipython2",
   "version": "2.7.6"
  }
 },
 "nbformat": 4,
 "nbformat_minor": 5
}
