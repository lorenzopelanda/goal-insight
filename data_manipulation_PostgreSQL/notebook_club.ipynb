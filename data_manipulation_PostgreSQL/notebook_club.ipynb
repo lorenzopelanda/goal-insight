{
 "cells": [
  {
   "metadata": {},
   "cell_type": "markdown",
   "source": "# Importing the libraries and the dataset",
   "id": "984c77999458229e"
  },
  {
   "cell_type": "code",
   "id": "initial_id",
   "metadata": {
    "collapsed": true,
    "ExecuteTime": {
     "end_time": "2024-06-15T07:10:34.963972Z",
     "start_time": "2024-06-15T07:10:34.958691Z"
    }
   },
   "source": [
    "import pandas as pd\n",
    "import re"
   ],
   "outputs": [],
   "execution_count": 15
  },
  {
   "cell_type": "code",
   "source": [
    "df =pd.read_csv('/home/lorenzo/Documents/3-TERZO-ANNO/IUMTWEB/CSV_progetto/clubs.csv')\n",
    "df.shape"
   ],
   "metadata": {
    "collapsed": false,
    "ExecuteTime": {
     "end_time": "2024-06-15T07:10:35.403538Z",
     "start_time": "2024-06-15T07:10:35.387171Z"
    }
   },
   "id": "c45a2a6506c4ee90",
   "outputs": [
    {
     "data": {
      "text/plain": [
       "(426, 16)"
      ]
     },
     "execution_count": 16,
     "metadata": {},
     "output_type": "execute_result"
    }
   ],
   "execution_count": 16
  },
  {
   "metadata": {},
   "cell_type": "markdown",
   "source": "# Checking the types of the columns",
   "id": "870e71ad24f8353a"
  },
  {
   "cell_type": "code",
   "source": [
    "df.dtypes"
   ],
   "metadata": {
    "collapsed": false,
    "ExecuteTime": {
     "end_time": "2024-06-15T07:10:35.622547Z",
     "start_time": "2024-06-15T07:10:35.612846Z"
    }
   },
   "id": "c0325b338a703a9b",
   "outputs": [
    {
     "data": {
      "text/plain": [
       "club_id                      int64\n",
       "club_code                   object\n",
       "name                        object\n",
       "domestic_competition_id     object\n",
       "total_market_value         float64\n",
       "squad_size                   int64\n",
       "average_age                float64\n",
       "foreigners_number            int64\n",
       "foreigners_percentage      float64\n",
       "national_team_players        int64\n",
       "stadium_name                object\n",
       "stadium_seats                int64\n",
       "net_transfer_record         object\n",
       "coach_name                 float64\n",
       "last_season                  int64\n",
       "url                         object\n",
       "dtype: object"
      ]
     },
     "execution_count": 17,
     "metadata": {},
     "output_type": "execute_result"
    }
   ],
   "execution_count": 17
  },
  {
   "metadata": {},
   "cell_type": "markdown",
   "source": "# Dropping the columns that are not useful for the database",
   "id": "19253aba65a20715"
  },
  {
   "cell_type": "code",
   "source": [
    "df.drop(columns=['club_code','squad_size','average_age','foreigners_number','foreigners_percentage','national_team_players','net_transfer_record','url','total_market_value'],inplace=True)"
   ],
   "metadata": {
    "collapsed": false,
    "ExecuteTime": {
     "end_time": "2024-06-15T07:10:35.845246Z",
     "start_time": "2024-06-15T07:10:35.837331Z"
    }
   },
   "id": "9916ed186850c10c",
   "outputs": [],
   "execution_count": 18
  },
  {
   "metadata": {},
   "cell_type": "markdown",
   "source": "# Creating a function to check if a string contains only european characters and another function to check if a string contains cyrillic characters",
   "id": "25fca21649481965"
  },
  {
   "cell_type": "code",
   "source": [
    "def contains_only_european_chars(s):\n",
    "    return re.match(r'^[a-zA-Z0-9\\s\\.,;:!?\\-\\'\\\"()€£\\u00C0-\\u017F]+$', s) is not None\n",
    "def contains_cyrillic_chars(s):\n",
    "    return bool(re.search(r'[\\u0400-\\u04FF]', s))\n",
    "\n"
   ],
   "metadata": {
    "collapsed": false,
    "ExecuteTime": {
     "end_time": "2024-06-15T07:10:36.089111Z",
     "start_time": "2024-06-15T07:10:36.083788Z"
    }
   },
   "id": "8fb178c0b76ee4f6",
   "outputs": [],
   "execution_count": 19
  },
  {
   "cell_type": "code",
   "source": [
    "df.dtypes"
   ],
   "metadata": {
    "collapsed": false,
    "ExecuteTime": {
     "end_time": "2024-06-15T07:10:36.241207Z",
     "start_time": "2024-06-15T07:10:36.231756Z"
    }
   },
   "id": "e51f2598c62fba6b",
   "outputs": [
    {
     "data": {
      "text/plain": [
       "club_id                      int64\n",
       "name                        object\n",
       "domestic_competition_id     object\n",
       "stadium_name                object\n",
       "stadium_seats                int64\n",
       "coach_name                 float64\n",
       "last_season                  int64\n",
       "dtype: object"
      ]
     },
     "execution_count": 20,
     "metadata": {},
     "output_type": "execute_result"
    }
   ],
   "execution_count": 20
  },
  {
   "metadata": {},
   "cell_type": "markdown",
   "source": "# Converting the types of some selected columns to string",
   "id": "85bf020fd99d3e57"
  },
  {
   "cell_type": "code",
   "source": [
    "columns_to_filter = ['name','domestic_competition_id','stadium_name']\n",
    "df[columns_to_filter] = df[columns_to_filter].astype('str')"
   ],
   "metadata": {
    "collapsed": false,
    "ExecuteTime": {
     "end_time": "2024-06-15T07:10:36.337852Z",
     "start_time": "2024-06-15T07:10:36.330390Z"
    }
   },
   "id": "cfbeeaa27aa49054",
   "outputs": [],
   "execution_count": 21
  },
  {
   "metadata": {},
   "cell_type": "markdown",
   "source": "# Filtering and dropping the columns that contain cyrillic characters",
   "id": "c370abe280db2dda"
  },
  {
   "metadata": {
    "ExecuteTime": {
     "end_time": "2024-06-15T07:10:36.377206Z",
     "start_time": "2024-06-15T07:10:36.365588Z"
    }
   },
   "cell_type": "code",
   "source": [
    "for column in columns_to_filter:\n",
    "    df = df[~df[column].apply(contains_cyrillic_chars)]"
   ],
   "id": "a4435696ed4ffb18",
   "outputs": [],
   "execution_count": 22
  },
  {
   "metadata": {},
   "cell_type": "markdown",
   "source": "# Filtering the columns that contain only european characters",
   "id": "f11fc88935502701"
  },
  {
   "cell_type": "code",
   "source": [
    "for column in columns_to_filter:\n",
    "    df_filtered = df[df[column].apply(contains_only_european_chars)] "
   ],
   "metadata": {
    "collapsed": false,
    "ExecuteTime": {
     "end_time": "2024-06-15T07:10:36.462741Z",
     "start_time": "2024-06-15T07:10:36.452307Z"
    }
   },
   "id": "d9b327ef2e46e5dd",
   "outputs": [],
   "execution_count": 23
  },
  {
   "cell_type": "code",
   "source": [
    "df_filtered.shape"
   ],
   "metadata": {
    "collapsed": false,
    "ExecuteTime": {
     "end_time": "2024-06-15T07:10:36.532729Z",
     "start_time": "2024-06-15T07:10:36.526380Z"
    }
   },
   "id": "5984d11fd9def9a6",
   "outputs": [
    {
     "data": {
      "text/plain": [
       "(420, 7)"
      ]
     },
     "execution_count": 24,
     "metadata": {},
     "output_type": "execute_result"
    }
   ],
   "execution_count": 24
  },
  {
   "cell_type": "code",
   "source": [
    "df_filtered"
   ],
   "metadata": {
    "collapsed": false,
    "ExecuteTime": {
     "end_time": "2024-06-15T07:10:36.634801Z",
     "start_time": "2024-06-15T07:10:36.609730Z"
    }
   },
   "id": "5305f48b904864ab",
   "outputs": [
    {
     "data": {
      "text/plain": [
       "     club_id                               name domestic_competition_id  \\\n",
       "0        105   Sportverein Darmstadt 1898 e. V.                      L1   \n",
       "1      11127              FK Ural Yekaterinburg                     RU1   \n",
       "2        114          Beşiktaş Jimnastik Kulübü                     TR1   \n",
       "3         12         Associazione Sportiva Roma                     IT1   \n",
       "4        148    Tottenham Hotspur Football Club                     GB1   \n",
       "..       ...                                ...                     ...   \n",
       "421    68608                   CF Os Belenenses                     PO1   \n",
       "422      724             Football Club Volendam                     NL1   \n",
       "423      800  Atalanta Bergamasca Calcio S.p.a.                     IT1   \n",
       "424      979           Moreirense Futebol Clube                     PO1   \n",
       "425      984               West Bromwich Albion                     GB1   \n",
       "\n",
       "                         stadium_name  stadium_seats  coach_name  last_season  \n",
       "0      Merck-Stadion am Böllenfalltor          17810         NaN         2023  \n",
       "1                 Yekaterinburg Arena          23000         NaN         2023  \n",
       "2                     Tüpraş Stadyumu          42590         NaN         2023  \n",
       "3                    Olimpico di Roma          73261         NaN         2023  \n",
       "4           Tottenham Hotspur Stadium          62062         NaN         2023  \n",
       "..                                ...            ...         ...          ...  \n",
       "421                Estádio do Restelo          19980         NaN         2017  \n",
       "422                      Kras Stadion           7384         NaN         2023  \n",
       "423                    Gewiss Stadium          21747         NaN         2023  \n",
       "424  Estádio C. J. de Almeida Freitas           6153         NaN         2023  \n",
       "425                     The Hawthorns          26850         NaN         2020  \n",
       "\n",
       "[420 rows x 7 columns]"
      ],
      "text/html": [
       "<div>\n",
       "<style scoped>\n",
       "    .dataframe tbody tr th:only-of-type {\n",
       "        vertical-align: middle;\n",
       "    }\n",
       "\n",
       "    .dataframe tbody tr th {\n",
       "        vertical-align: top;\n",
       "    }\n",
       "\n",
       "    .dataframe thead th {\n",
       "        text-align: right;\n",
       "    }\n",
       "</style>\n",
       "<table border=\"1\" class=\"dataframe\">\n",
       "  <thead>\n",
       "    <tr style=\"text-align: right;\">\n",
       "      <th></th>\n",
       "      <th>club_id</th>\n",
       "      <th>name</th>\n",
       "      <th>domestic_competition_id</th>\n",
       "      <th>stadium_name</th>\n",
       "      <th>stadium_seats</th>\n",
       "      <th>coach_name</th>\n",
       "      <th>last_season</th>\n",
       "    </tr>\n",
       "  </thead>\n",
       "  <tbody>\n",
       "    <tr>\n",
       "      <th>0</th>\n",
       "      <td>105</td>\n",
       "      <td>Sportverein Darmstadt 1898 e. V.</td>\n",
       "      <td>L1</td>\n",
       "      <td>Merck-Stadion am Böllenfalltor</td>\n",
       "      <td>17810</td>\n",
       "      <td>NaN</td>\n",
       "      <td>2023</td>\n",
       "    </tr>\n",
       "    <tr>\n",
       "      <th>1</th>\n",
       "      <td>11127</td>\n",
       "      <td>FK Ural Yekaterinburg</td>\n",
       "      <td>RU1</td>\n",
       "      <td>Yekaterinburg Arena</td>\n",
       "      <td>23000</td>\n",
       "      <td>NaN</td>\n",
       "      <td>2023</td>\n",
       "    </tr>\n",
       "    <tr>\n",
       "      <th>2</th>\n",
       "      <td>114</td>\n",
       "      <td>Beşiktaş Jimnastik Kulübü</td>\n",
       "      <td>TR1</td>\n",
       "      <td>Tüpraş Stadyumu</td>\n",
       "      <td>42590</td>\n",
       "      <td>NaN</td>\n",
       "      <td>2023</td>\n",
       "    </tr>\n",
       "    <tr>\n",
       "      <th>3</th>\n",
       "      <td>12</td>\n",
       "      <td>Associazione Sportiva Roma</td>\n",
       "      <td>IT1</td>\n",
       "      <td>Olimpico di Roma</td>\n",
       "      <td>73261</td>\n",
       "      <td>NaN</td>\n",
       "      <td>2023</td>\n",
       "    </tr>\n",
       "    <tr>\n",
       "      <th>4</th>\n",
       "      <td>148</td>\n",
       "      <td>Tottenham Hotspur Football Club</td>\n",
       "      <td>GB1</td>\n",
       "      <td>Tottenham Hotspur Stadium</td>\n",
       "      <td>62062</td>\n",
       "      <td>NaN</td>\n",
       "      <td>2023</td>\n",
       "    </tr>\n",
       "    <tr>\n",
       "      <th>...</th>\n",
       "      <td>...</td>\n",
       "      <td>...</td>\n",
       "      <td>...</td>\n",
       "      <td>...</td>\n",
       "      <td>...</td>\n",
       "      <td>...</td>\n",
       "      <td>...</td>\n",
       "    </tr>\n",
       "    <tr>\n",
       "      <th>421</th>\n",
       "      <td>68608</td>\n",
       "      <td>CF Os Belenenses</td>\n",
       "      <td>PO1</td>\n",
       "      <td>Estádio do Restelo</td>\n",
       "      <td>19980</td>\n",
       "      <td>NaN</td>\n",
       "      <td>2017</td>\n",
       "    </tr>\n",
       "    <tr>\n",
       "      <th>422</th>\n",
       "      <td>724</td>\n",
       "      <td>Football Club Volendam</td>\n",
       "      <td>NL1</td>\n",
       "      <td>Kras Stadion</td>\n",
       "      <td>7384</td>\n",
       "      <td>NaN</td>\n",
       "      <td>2023</td>\n",
       "    </tr>\n",
       "    <tr>\n",
       "      <th>423</th>\n",
       "      <td>800</td>\n",
       "      <td>Atalanta Bergamasca Calcio S.p.a.</td>\n",
       "      <td>IT1</td>\n",
       "      <td>Gewiss Stadium</td>\n",
       "      <td>21747</td>\n",
       "      <td>NaN</td>\n",
       "      <td>2023</td>\n",
       "    </tr>\n",
       "    <tr>\n",
       "      <th>424</th>\n",
       "      <td>979</td>\n",
       "      <td>Moreirense Futebol Clube</td>\n",
       "      <td>PO1</td>\n",
       "      <td>Estádio C. J. de Almeida Freitas</td>\n",
       "      <td>6153</td>\n",
       "      <td>NaN</td>\n",
       "      <td>2023</td>\n",
       "    </tr>\n",
       "    <tr>\n",
       "      <th>425</th>\n",
       "      <td>984</td>\n",
       "      <td>West Bromwich Albion</td>\n",
       "      <td>GB1</td>\n",
       "      <td>The Hawthorns</td>\n",
       "      <td>26850</td>\n",
       "      <td>NaN</td>\n",
       "      <td>2020</td>\n",
       "    </tr>\n",
       "  </tbody>\n",
       "</table>\n",
       "<p>420 rows × 7 columns</p>\n",
       "</div>"
      ]
     },
     "execution_count": 25,
     "metadata": {},
     "output_type": "execute_result"
    }
   ],
   "execution_count": 25
  },
  {
   "metadata": {},
   "cell_type": "markdown",
   "source": "# Checking the amount of missing values",
   "id": "25d12f7a54d812fc"
  },
  {
   "cell_type": "code",
   "source": [
    "df_filtered.isna().sum()"
   ],
   "metadata": {
    "collapsed": false,
    "ExecuteTime": {
     "end_time": "2024-06-15T07:10:36.685407Z",
     "start_time": "2024-06-15T07:10:36.676405Z"
    }
   },
   "id": "80e1029636ea9a66",
   "outputs": [
    {
     "data": {
      "text/plain": [
       "club_id                      0\n",
       "name                         0\n",
       "domestic_competition_id      0\n",
       "stadium_name                 0\n",
       "stadium_seats                0\n",
       "coach_name                 420\n",
       "last_season                  0\n",
       "dtype: int64"
      ]
     },
     "execution_count": 26,
     "metadata": {},
     "output_type": "execute_result"
    }
   ],
   "execution_count": 26
  },
  {
   "metadata": {},
   "cell_type": "markdown",
   "source": "# Dropping the column that contain missing values",
   "id": "3def863ae645e844"
  },
  {
   "cell_type": "code",
   "source": [
    "df_filtered.drop('coach_name',axis=1)"
   ],
   "metadata": {
    "collapsed": false,
    "ExecuteTime": {
     "end_time": "2024-06-15T07:10:36.728345Z",
     "start_time": "2024-06-15T07:10:36.703596Z"
    }
   },
   "id": "d70cf5e65ce204da",
   "outputs": [
    {
     "data": {
      "text/plain": [
       "     club_id                               name domestic_competition_id  \\\n",
       "0        105   Sportverein Darmstadt 1898 e. V.                      L1   \n",
       "1      11127              FK Ural Yekaterinburg                     RU1   \n",
       "2        114          Beşiktaş Jimnastik Kulübü                     TR1   \n",
       "3         12         Associazione Sportiva Roma                     IT1   \n",
       "4        148    Tottenham Hotspur Football Club                     GB1   \n",
       "..       ...                                ...                     ...   \n",
       "421    68608                   CF Os Belenenses                     PO1   \n",
       "422      724             Football Club Volendam                     NL1   \n",
       "423      800  Atalanta Bergamasca Calcio S.p.a.                     IT1   \n",
       "424      979           Moreirense Futebol Clube                     PO1   \n",
       "425      984               West Bromwich Albion                     GB1   \n",
       "\n",
       "                         stadium_name  stadium_seats  last_season  \n",
       "0      Merck-Stadion am Böllenfalltor          17810         2023  \n",
       "1                 Yekaterinburg Arena          23000         2023  \n",
       "2                     Tüpraş Stadyumu          42590         2023  \n",
       "3                    Olimpico di Roma          73261         2023  \n",
       "4           Tottenham Hotspur Stadium          62062         2023  \n",
       "..                                ...            ...          ...  \n",
       "421                Estádio do Restelo          19980         2017  \n",
       "422                      Kras Stadion           7384         2023  \n",
       "423                    Gewiss Stadium          21747         2023  \n",
       "424  Estádio C. J. de Almeida Freitas           6153         2023  \n",
       "425                     The Hawthorns          26850         2020  \n",
       "\n",
       "[420 rows x 6 columns]"
      ],
      "text/html": [
       "<div>\n",
       "<style scoped>\n",
       "    .dataframe tbody tr th:only-of-type {\n",
       "        vertical-align: middle;\n",
       "    }\n",
       "\n",
       "    .dataframe tbody tr th {\n",
       "        vertical-align: top;\n",
       "    }\n",
       "\n",
       "    .dataframe thead th {\n",
       "        text-align: right;\n",
       "    }\n",
       "</style>\n",
       "<table border=\"1\" class=\"dataframe\">\n",
       "  <thead>\n",
       "    <tr style=\"text-align: right;\">\n",
       "      <th></th>\n",
       "      <th>club_id</th>\n",
       "      <th>name</th>\n",
       "      <th>domestic_competition_id</th>\n",
       "      <th>stadium_name</th>\n",
       "      <th>stadium_seats</th>\n",
       "      <th>last_season</th>\n",
       "    </tr>\n",
       "  </thead>\n",
       "  <tbody>\n",
       "    <tr>\n",
       "      <th>0</th>\n",
       "      <td>105</td>\n",
       "      <td>Sportverein Darmstadt 1898 e. V.</td>\n",
       "      <td>L1</td>\n",
       "      <td>Merck-Stadion am Böllenfalltor</td>\n",
       "      <td>17810</td>\n",
       "      <td>2023</td>\n",
       "    </tr>\n",
       "    <tr>\n",
       "      <th>1</th>\n",
       "      <td>11127</td>\n",
       "      <td>FK Ural Yekaterinburg</td>\n",
       "      <td>RU1</td>\n",
       "      <td>Yekaterinburg Arena</td>\n",
       "      <td>23000</td>\n",
       "      <td>2023</td>\n",
       "    </tr>\n",
       "    <tr>\n",
       "      <th>2</th>\n",
       "      <td>114</td>\n",
       "      <td>Beşiktaş Jimnastik Kulübü</td>\n",
       "      <td>TR1</td>\n",
       "      <td>Tüpraş Stadyumu</td>\n",
       "      <td>42590</td>\n",
       "      <td>2023</td>\n",
       "    </tr>\n",
       "    <tr>\n",
       "      <th>3</th>\n",
       "      <td>12</td>\n",
       "      <td>Associazione Sportiva Roma</td>\n",
       "      <td>IT1</td>\n",
       "      <td>Olimpico di Roma</td>\n",
       "      <td>73261</td>\n",
       "      <td>2023</td>\n",
       "    </tr>\n",
       "    <tr>\n",
       "      <th>4</th>\n",
       "      <td>148</td>\n",
       "      <td>Tottenham Hotspur Football Club</td>\n",
       "      <td>GB1</td>\n",
       "      <td>Tottenham Hotspur Stadium</td>\n",
       "      <td>62062</td>\n",
       "      <td>2023</td>\n",
       "    </tr>\n",
       "    <tr>\n",
       "      <th>...</th>\n",
       "      <td>...</td>\n",
       "      <td>...</td>\n",
       "      <td>...</td>\n",
       "      <td>...</td>\n",
       "      <td>...</td>\n",
       "      <td>...</td>\n",
       "    </tr>\n",
       "    <tr>\n",
       "      <th>421</th>\n",
       "      <td>68608</td>\n",
       "      <td>CF Os Belenenses</td>\n",
       "      <td>PO1</td>\n",
       "      <td>Estádio do Restelo</td>\n",
       "      <td>19980</td>\n",
       "      <td>2017</td>\n",
       "    </tr>\n",
       "    <tr>\n",
       "      <th>422</th>\n",
       "      <td>724</td>\n",
       "      <td>Football Club Volendam</td>\n",
       "      <td>NL1</td>\n",
       "      <td>Kras Stadion</td>\n",
       "      <td>7384</td>\n",
       "      <td>2023</td>\n",
       "    </tr>\n",
       "    <tr>\n",
       "      <th>423</th>\n",
       "      <td>800</td>\n",
       "      <td>Atalanta Bergamasca Calcio S.p.a.</td>\n",
       "      <td>IT1</td>\n",
       "      <td>Gewiss Stadium</td>\n",
       "      <td>21747</td>\n",
       "      <td>2023</td>\n",
       "    </tr>\n",
       "    <tr>\n",
       "      <th>424</th>\n",
       "      <td>979</td>\n",
       "      <td>Moreirense Futebol Clube</td>\n",
       "      <td>PO1</td>\n",
       "      <td>Estádio C. J. de Almeida Freitas</td>\n",
       "      <td>6153</td>\n",
       "      <td>2023</td>\n",
       "    </tr>\n",
       "    <tr>\n",
       "      <th>425</th>\n",
       "      <td>984</td>\n",
       "      <td>West Bromwich Albion</td>\n",
       "      <td>GB1</td>\n",
       "      <td>The Hawthorns</td>\n",
       "      <td>26850</td>\n",
       "      <td>2020</td>\n",
       "    </tr>\n",
       "  </tbody>\n",
       "</table>\n",
       "<p>420 rows × 6 columns</p>\n",
       "</div>"
      ]
     },
     "execution_count": 27,
     "metadata": {},
     "output_type": "execute_result"
    }
   ],
   "execution_count": 27
  },
  {
   "cell_type": "code",
   "source": "df_filtered.shape",
   "metadata": {
    "collapsed": false,
    "ExecuteTime": {
     "end_time": "2024-06-15T07:10:36.936518Z",
     "start_time": "2024-06-15T07:10:36.929171Z"
    }
   },
   "id": "7496c0e190831b8a",
   "outputs": [
    {
     "data": {
      "text/plain": [
       "(420, 7)"
      ]
     },
     "execution_count": 28,
     "metadata": {},
     "output_type": "execute_result"
    }
   ],
   "execution_count": 28
  },
  {
   "metadata": {},
   "cell_type": "markdown",
   "source": "# Saving the filtered dataset",
   "id": "d5c52a6a145bc4d8"
  },
  {
   "cell_type": "code",
   "source": "df_filtered.to_csv('/home/lorenzo/Documents/3-TERZO-ANNO/IUMTWEB/Manipulated_data/clubs.csv',index=False)",
   "metadata": {
    "collapsed": false,
    "ExecuteTime": {
     "end_time": "2024-06-15T07:10:37.131071Z",
     "start_time": "2024-06-15T07:10:37.119801Z"
    }
   },
   "id": "9dd2fa7eff490937",
   "outputs": [],
   "execution_count": 29
  }
 ],
 "metadata": {
  "kernelspec": {
   "display_name": "Python 3",
   "language": "python",
   "name": "python3"
  },
  "language_info": {
   "codemirror_mode": {
    "name": "ipython",
    "version": 2
   },
   "file_extension": ".py",
   "mimetype": "text/x-python",
   "name": "python",
   "nbconvert_exporter": "python",
   "pygments_lexer": "ipython2",
   "version": "2.7.6"
  }
 },
 "nbformat": 4,
 "nbformat_minor": 5
}
