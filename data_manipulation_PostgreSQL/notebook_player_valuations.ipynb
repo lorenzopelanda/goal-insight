{
 "cells": [
  {
   "metadata": {},
   "cell_type": "markdown",
   "source": "# Importing the necessary libraries and the dataset",
   "id": "6f8f9a5c580495e3"
  },
  {
   "cell_type": "code",
   "id": "initial_id",
   "metadata": {
    "collapsed": true,
    "ExecuteTime": {
     "end_time": "2024-06-28T09:15:02.727053Z",
     "start_time": "2024-06-28T09:15:02.285841Z"
    }
   },
   "source": [
    "import pandas as pd\n",
    "import re"
   ],
   "outputs": [],
   "execution_count": 1
  },
  {
   "cell_type": "code",
   "source": [
    "df =pd.read_csv('/home/lorenzo/Documents/3-TERZO-ANNO/IUMTWEB/CSV_progetto/player_valuations.csv')\n",
    "df.shape"
   ],
   "metadata": {
    "collapsed": false,
    "ExecuteTime": {
     "end_time": "2024-06-28T09:15:03.307082Z",
     "start_time": "2024-06-28T09:15:02.729661Z"
    }
   },
   "id": "1135889aac985364",
   "outputs": [
    {
     "data": {
      "text/plain": [
       "(440663, 9)"
      ]
     },
     "execution_count": 2,
     "metadata": {},
     "output_type": "execute_result"
    }
   ],
   "execution_count": 2
  },
  {
   "cell_type": "code",
   "source": [
    "df.dtypes"
   ],
   "metadata": {
    "collapsed": false,
    "ExecuteTime": {
     "end_time": "2024-06-28T09:15:03.313523Z",
     "start_time": "2024-06-28T09:15:03.308380Z"
    }
   },
   "id": "b0144a72612430da",
   "outputs": [
    {
     "data": {
      "text/plain": [
       "player_id                               int64\n",
       "last_season                             int64\n",
       "datetime                               object\n",
       "date                                   object\n",
       "dateweek                               object\n",
       "market_value_in_eur                     int64\n",
       "n                                       int64\n",
       "current_club_id                         int64\n",
       "player_club_domestic_competition_id    object\n",
       "dtype: object"
      ]
     },
     "execution_count": 3,
     "metadata": {},
     "output_type": "execute_result"
    }
   ],
   "execution_count": 3
  },
  {
   "metadata": {},
   "cell_type": "markdown",
   "source": "# Dropping the columns that are not useful for the database",
   "id": "65ae6b885286225b"
  },
  {
   "cell_type": "code",
   "source": [
    "df.drop(columns=['datetime','dateweek','n','player_club_domestic_competition_id'],inplace=True)"
   ],
   "metadata": {
    "collapsed": false,
    "ExecuteTime": {
     "end_time": "2024-06-28T09:15:03.340604Z",
     "start_time": "2024-06-28T09:15:03.315096Z"
    }
   },
   "id": "96fe6e891bfc492",
   "outputs": [],
   "execution_count": 4
  },
  {
   "cell_type": "code",
   "source": [
    "df.shape"
   ],
   "metadata": {
    "collapsed": false,
    "ExecuteTime": {
     "end_time": "2024-06-28T09:15:03.354027Z",
     "start_time": "2024-06-28T09:15:03.343311Z"
    }
   },
   "id": "ee9cc0555ac451a0",
   "outputs": [
    {
     "data": {
      "text/plain": [
       "(440663, 5)"
      ]
     },
     "execution_count": 5,
     "metadata": {},
     "output_type": "execute_result"
    }
   ],
   "execution_count": 5
  },
  {
   "cell_type": "code",
   "source": [
    "df.dtypes"
   ],
   "metadata": {
    "collapsed": false,
    "ExecuteTime": {
     "end_time": "2024-06-28T09:15:03.374984Z",
     "start_time": "2024-06-28T09:15:03.356679Z"
    }
   },
   "id": "e5bbe3e825666666",
   "outputs": [
    {
     "data": {
      "text/plain": [
       "player_id               int64\n",
       "last_season             int64\n",
       "date                   object\n",
       "market_value_in_eur     int64\n",
       "current_club_id         int64\n",
       "dtype: object"
      ]
     },
     "execution_count": 6,
     "metadata": {},
     "output_type": "execute_result"
    }
   ],
   "execution_count": 6
  },
  {
   "cell_type": "code",
   "source": [
    "df['date'] = pd.to_datetime(df['date'])"
   ],
   "metadata": {
    "collapsed": false,
    "ExecuteTime": {
     "end_time": "2024-06-28T09:15:03.455265Z",
     "start_time": "2024-06-28T09:15:03.376029Z"
    }
   },
   "id": "7e33d2e1e0d11bef",
   "outputs": [],
   "execution_count": 7
  },
  {
   "metadata": {},
   "cell_type": "markdown",
   "source": "# Checking for missing values",
   "id": "272a9e2e091b5667"
  },
  {
   "cell_type": "code",
   "source": [
    "df.isna().sum()"
   ],
   "metadata": {
    "collapsed": false,
    "ExecuteTime": {
     "end_time": "2024-06-28T09:15:03.467446Z",
     "start_time": "2024-06-28T09:15:03.456519Z"
    }
   },
   "id": "60cc29db69fc5c3a",
   "outputs": [
    {
     "data": {
      "text/plain": [
       "player_id              0\n",
       "last_season            0\n",
       "date                   0\n",
       "market_value_in_eur    0\n",
       "current_club_id        0\n",
       "dtype: int64"
      ]
     },
     "execution_count": 8,
     "metadata": {},
     "output_type": "execute_result"
    }
   ],
   "execution_count": 8
  },
  {
   "cell_type": "code",
   "source": [
    "df.shape"
   ],
   "metadata": {
    "collapsed": false,
    "ExecuteTime": {
     "end_time": "2024-06-28T09:15:03.483075Z",
     "start_time": "2024-06-28T09:15:03.470024Z"
    }
   },
   "id": "f6372eb1d31cec99",
   "outputs": [
    {
     "data": {
      "text/plain": [
       "(440663, 5)"
      ]
     },
     "execution_count": 9,
     "metadata": {},
     "output_type": "execute_result"
    }
   ],
   "execution_count": 9
  },
  {
   "metadata": {},
   "cell_type": "markdown",
   "source": "# Checking if the dataset match the players and clubs datasets",
   "id": "e6872a59320be17"
  },
  {
   "cell_type": "code",
   "source": [
    "df_players = pd.read_csv('/home/lorenzo/Documents/3-TERZO-ANNO/IUMTWEB/Manipulated_data/players.csv')\n",
    "df_clubs = pd.read_csv('/home/lorenzo/Documents/3-TERZO-ANNO/IUMTWEB/Manipulated_data/clubs.csv')\n",
    "df_filtered = df[df['player_id'].isin(df_players['player_id'])]\n",
    "df_filtered = df[df['current_club_id'].isin(df_clubs['club_id'])]\n",
    "df_filtered"
   ],
   "metadata": {
    "collapsed": false,
    "ExecuteTime": {
     "end_time": "2024-06-28T09:15:03.781248Z",
     "start_time": "2024-06-28T09:15:03.485112Z"
    }
   },
   "id": "fae956dcfbd13365",
   "outputs": [
    {
     "data": {
      "text/plain": [
       "        player_id  last_season       date  market_value_in_eur  \\\n",
       "0            3132         2013 2003-12-09               400000   \n",
       "1            6893         2012 2003-12-15               900000   \n",
       "2              10         2015 2004-10-04              7000000   \n",
       "3              26         2017 2004-10-04              1500000   \n",
       "4              65         2015 2004-10-04              8000000   \n",
       "...           ...          ...        ...                  ...   \n",
       "440658     950091         2023 2023-09-21              1000000   \n",
       "440659     968903         2023 2023-09-21                50000   \n",
       "440660    1031590         2023 2023-09-21                50000   \n",
       "440661    1166093         2023 2023-09-21                50000   \n",
       "440662     405676         2018 2023-12-19                50000   \n",
       "\n",
       "        current_club_id  \n",
       "0                   126  \n",
       "1                   984  \n",
       "2                   398  \n",
       "3                    16  \n",
       "4                  1091  \n",
       "...                 ...  \n",
       "440658             1091  \n",
       "440659              653  \n",
       "440660             6418  \n",
       "440661            30120  \n",
       "440662            23826  \n",
       "\n",
       "[433315 rows x 5 columns]"
      ],
      "text/html": [
       "<div>\n",
       "<style scoped>\n",
       "    .dataframe tbody tr th:only-of-type {\n",
       "        vertical-align: middle;\n",
       "    }\n",
       "\n",
       "    .dataframe tbody tr th {\n",
       "        vertical-align: top;\n",
       "    }\n",
       "\n",
       "    .dataframe thead th {\n",
       "        text-align: right;\n",
       "    }\n",
       "</style>\n",
       "<table border=\"1\" class=\"dataframe\">\n",
       "  <thead>\n",
       "    <tr style=\"text-align: right;\">\n",
       "      <th></th>\n",
       "      <th>player_id</th>\n",
       "      <th>last_season</th>\n",
       "      <th>date</th>\n",
       "      <th>market_value_in_eur</th>\n",
       "      <th>current_club_id</th>\n",
       "    </tr>\n",
       "  </thead>\n",
       "  <tbody>\n",
       "    <tr>\n",
       "      <th>0</th>\n",
       "      <td>3132</td>\n",
       "      <td>2013</td>\n",
       "      <td>2003-12-09</td>\n",
       "      <td>400000</td>\n",
       "      <td>126</td>\n",
       "    </tr>\n",
       "    <tr>\n",
       "      <th>1</th>\n",
       "      <td>6893</td>\n",
       "      <td>2012</td>\n",
       "      <td>2003-12-15</td>\n",
       "      <td>900000</td>\n",
       "      <td>984</td>\n",
       "    </tr>\n",
       "    <tr>\n",
       "      <th>2</th>\n",
       "      <td>10</td>\n",
       "      <td>2015</td>\n",
       "      <td>2004-10-04</td>\n",
       "      <td>7000000</td>\n",
       "      <td>398</td>\n",
       "    </tr>\n",
       "    <tr>\n",
       "      <th>3</th>\n",
       "      <td>26</td>\n",
       "      <td>2017</td>\n",
       "      <td>2004-10-04</td>\n",
       "      <td>1500000</td>\n",
       "      <td>16</td>\n",
       "    </tr>\n",
       "    <tr>\n",
       "      <th>4</th>\n",
       "      <td>65</td>\n",
       "      <td>2015</td>\n",
       "      <td>2004-10-04</td>\n",
       "      <td>8000000</td>\n",
       "      <td>1091</td>\n",
       "    </tr>\n",
       "    <tr>\n",
       "      <th>...</th>\n",
       "      <td>...</td>\n",
       "      <td>...</td>\n",
       "      <td>...</td>\n",
       "      <td>...</td>\n",
       "      <td>...</td>\n",
       "    </tr>\n",
       "    <tr>\n",
       "      <th>440658</th>\n",
       "      <td>950091</td>\n",
       "      <td>2023</td>\n",
       "      <td>2023-09-21</td>\n",
       "      <td>1000000</td>\n",
       "      <td>1091</td>\n",
       "    </tr>\n",
       "    <tr>\n",
       "      <th>440659</th>\n",
       "      <td>968903</td>\n",
       "      <td>2023</td>\n",
       "      <td>2023-09-21</td>\n",
       "      <td>50000</td>\n",
       "      <td>653</td>\n",
       "    </tr>\n",
       "    <tr>\n",
       "      <th>440660</th>\n",
       "      <td>1031590</td>\n",
       "      <td>2023</td>\n",
       "      <td>2023-09-21</td>\n",
       "      <td>50000</td>\n",
       "      <td>6418</td>\n",
       "    </tr>\n",
       "    <tr>\n",
       "      <th>440661</th>\n",
       "      <td>1166093</td>\n",
       "      <td>2023</td>\n",
       "      <td>2023-09-21</td>\n",
       "      <td>50000</td>\n",
       "      <td>30120</td>\n",
       "    </tr>\n",
       "    <tr>\n",
       "      <th>440662</th>\n",
       "      <td>405676</td>\n",
       "      <td>2018</td>\n",
       "      <td>2023-12-19</td>\n",
       "      <td>50000</td>\n",
       "      <td>23826</td>\n",
       "    </tr>\n",
       "  </tbody>\n",
       "</table>\n",
       "<p>433315 rows × 5 columns</p>\n",
       "</div>"
      ]
     },
     "execution_count": 10,
     "metadata": {},
     "output_type": "execute_result"
    }
   ],
   "execution_count": 10
  },
  {
   "metadata": {},
   "cell_type": "markdown",
   "source": "# Saving the dataset",
   "id": "847e63d4ed4f9cf9"
  },
  {
   "cell_type": "code",
   "source": "df.to_csv('/home/lorenzo/Documents/3-TERZO-ANNO/IUMTWEB/Manipulated_data/player_valuations.csv',index=False)",
   "metadata": {
    "collapsed": false,
    "ExecuteTime": {
     "end_time": "2024-06-28T09:15:04.951068Z",
     "start_time": "2024-06-28T09:15:03.782855Z"
    }
   },
   "id": "1c8f208532a99af9",
   "outputs": [],
   "execution_count": 11
  }
 ],
 "metadata": {
  "kernelspec": {
   "display_name": "Python 3",
   "language": "python",
   "name": "python3"
  },
  "language_info": {
   "codemirror_mode": {
    "name": "ipython",
    "version": 2
   },
   "file_extension": ".py",
   "mimetype": "text/x-python",
   "name": "python",
   "nbconvert_exporter": "python",
   "pygments_lexer": "ipython2",
   "version": "2.7.6"
  }
 },
 "nbformat": 4,
 "nbformat_minor": 5
}
