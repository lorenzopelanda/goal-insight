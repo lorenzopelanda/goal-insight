{
 "cells": [
  {
   "metadata": {},
   "cell_type": "markdown",
   "source": "# Importing the necessary libraries and the dataset",
   "id": "c22bf9bfe5fcdfb9"
  },
  {
   "cell_type": "code",
   "id": "initial_id",
   "metadata": {
    "collapsed": true,
    "ExecuteTime": {
     "end_time": "2024-06-14T10:15:45.417314Z",
     "start_time": "2024-06-14T10:15:45.413221Z"
    }
   },
   "source": [
    "import pandas as pd\n",
    "import re"
   ],
   "outputs": [],
   "execution_count": 43
  },
  {
   "cell_type": "code",
   "source": [
    "df =pd.read_csv('/home/lorenzo/Documents/3-TERZO-ANNO/IUMTWEB/CSV_progetto/competitions.csv')\n",
    "df.shape"
   ],
   "metadata": {
    "collapsed": false,
    "ExecuteTime": {
     "end_time": "2024-06-14T10:15:45.631107Z",
     "start_time": "2024-06-14T10:15:45.620017Z"
    }
   },
   "id": "be37125b7d013fdb",
   "outputs": [
    {
     "data": {
      "text/plain": [
       "(43, 10)"
      ]
     },
     "execution_count": 44,
     "metadata": {},
     "output_type": "execute_result"
    }
   ],
   "execution_count": 44
  },
  {
   "cell_type": "code",
   "source": [
    "df.dtypes"
   ],
   "metadata": {
    "collapsed": false,
    "ExecuteTime": {
     "end_time": "2024-06-14T10:15:45.684036Z",
     "start_time": "2024-06-14T10:15:45.675338Z"
    }
   },
   "id": "3890782385b92a5f",
   "outputs": [
    {
     "data": {
      "text/plain": [
       "competition_id          object\n",
       "competition_code        object\n",
       "name                    object\n",
       "sub_type                object\n",
       "type                    object\n",
       "country_id               int64\n",
       "country_name            object\n",
       "domestic_league_code    object\n",
       "confederation           object\n",
       "url                     object\n",
       "dtype: object"
      ]
     },
     "execution_count": 45,
     "metadata": {},
     "output_type": "execute_result"
    }
   ],
   "execution_count": 45
  },
  {
   "metadata": {},
   "cell_type": "markdown",
   "source": "# Creating a function to check if a string contains only european characters",
   "id": "ded1bd15cbdc3f50"
  },
  {
   "cell_type": "code",
   "source": [
    "def contains_only_european_chars(s):\n",
    "    return re.match(r'^[a-zA-Z0-9\\s\\.,;:!?\\-\\'\\\"()€£\\u00C0-\\u017F]+$', s) is not None"
   ],
   "metadata": {
    "collapsed": false,
    "ExecuteTime": {
     "end_time": "2024-06-14T10:15:45.771630Z",
     "start_time": "2024-06-14T10:15:45.766910Z"
    }
   },
   "id": "385d1ff5263ebf75",
   "outputs": [],
   "execution_count": 46
  },
  {
   "metadata": {},
   "cell_type": "markdown",
   "source": "# Dropping the columns that are not useful for the database",
   "id": "2accc81133f13d51"
  },
  {
   "cell_type": "code",
   "source": [
    "df.drop(columns=['competition_code','sub_type','type','confederation','url'],inplace=True)"
   ],
   "metadata": {
    "collapsed": false,
    "ExecuteTime": {
     "end_time": "2024-06-14T10:15:45.803495Z",
     "start_time": "2024-06-14T10:15:45.795618Z"
    }
   },
   "id": "40c444dc33298bc2",
   "outputs": [],
   "execution_count": 47
  },
  {
   "metadata": {},
   "cell_type": "markdown",
   "source": "# Dropping the missing values",
   "id": "40b806f9f38a6bce"
  },
  {
   "cell_type": "code",
   "source": [
    "df=df.dropna()"
   ],
   "metadata": {
    "collapsed": false,
    "ExecuteTime": {
     "end_time": "2024-06-14T10:15:45.878723Z",
     "start_time": "2024-06-14T10:15:45.872934Z"
    }
   },
   "id": "26948b2c9c6ce1cd",
   "outputs": [],
   "execution_count": 48
  },
  {
   "cell_type": "code",
   "source": [
    "df.shape"
   ],
   "metadata": {
    "collapsed": false,
    "ExecuteTime": {
     "end_time": "2024-06-14T10:15:45.979452Z",
     "start_time": "2024-06-14T10:15:45.972940Z"
    }
   },
   "id": "f681cb7bc702936d",
   "outputs": [
    {
     "data": {
      "text/plain": [
       "(36, 5)"
      ]
     },
     "execution_count": 49,
     "metadata": {},
     "output_type": "execute_result"
    }
   ],
   "execution_count": 49
  },
  {
   "metadata": {},
   "cell_type": "markdown",
   "source": "# Checking the types of the columns",
   "id": "314cc65b05799967"
  },
  {
   "cell_type": "code",
   "source": [
    "df.dtypes"
   ],
   "metadata": {
    "collapsed": false,
    "ExecuteTime": {
     "end_time": "2024-06-14T10:15:46.066479Z",
     "start_time": "2024-06-14T10:15:46.058539Z"
    }
   },
   "id": "6b9675649b60ee2",
   "outputs": [
    {
     "data": {
      "text/plain": [
       "competition_id          object\n",
       "name                    object\n",
       "country_id               int64\n",
       "country_name            object\n",
       "domestic_league_code    object\n",
       "dtype: object"
      ]
     },
     "execution_count": 50,
     "metadata": {},
     "output_type": "execute_result"
    }
   ],
   "execution_count": 50
  },
  {
   "metadata": {},
   "cell_type": "markdown",
   "source": "# Converting the selected columns to String",
   "id": "99304db9a6178710"
  },
  {
   "cell_type": "code",
   "source": [
    "columns_to_filter = ['competition_id','name','country_name','domestic_league_code']\n",
    "df[columns_to_filter] = df[columns_to_filter].astype('str')"
   ],
   "metadata": {
    "collapsed": false,
    "ExecuteTime": {
     "end_time": "2024-06-14T10:15:46.145019Z",
     "start_time": "2024-06-14T10:15:46.132938Z"
    }
   },
   "id": "5c2ed608a069e4f7",
   "outputs": [],
   "execution_count": 51
  },
  {
   "metadata": {},
   "cell_type": "markdown",
   "source": "# Filtering the columns that contain only european characters",
   "id": "60b6d59dfc3d5de8"
  },
  {
   "cell_type": "code",
   "source": [
    "for column in columns_to_filter:\n",
    "    df_filtered = df[df[column].apply(contains_only_european_chars)] "
   ],
   "metadata": {
    "collapsed": false,
    "ExecuteTime": {
     "end_time": "2024-06-14T10:15:46.195755Z",
     "start_time": "2024-06-14T10:15:46.186241Z"
    }
   },
   "id": "5a186e5db0978a5f",
   "outputs": [],
   "execution_count": 52
  },
  {
   "cell_type": "code",
   "source": [
    "df_filtered.shape"
   ],
   "metadata": {
    "collapsed": false,
    "ExecuteTime": {
     "end_time": "2024-06-14T10:15:46.324742Z",
     "start_time": "2024-06-14T10:15:46.317715Z"
    }
   },
   "id": "27b9df6600f0a358",
   "outputs": [
    {
     "data": {
      "text/plain": [
       "(36, 5)"
      ]
     },
     "execution_count": 55,
     "metadata": {},
     "output_type": "execute_result"
    }
   ],
   "execution_count": 55
  },
  {
   "metadata": {},
   "cell_type": "markdown",
   "source": "# Saving the filtered dataset",
   "id": "52b7004a6c926ef8"
  },
  {
   "cell_type": "code",
   "source": "df_filtered.to_csv('/home/lorenzo/Documents/3-TERZO-ANNO/IUMTWEB/Manipulated_data/competitions.csv',index=False)",
   "metadata": {
    "collapsed": false,
    "ExecuteTime": {
     "end_time": "2024-06-14T10:15:46.419605Z",
     "start_time": "2024-06-14T10:15:46.411756Z"
    }
   },
   "id": "b2a4ee9e74b0228e",
   "outputs": [],
   "execution_count": 56
  }
 ],
 "metadata": {
  "kernelspec": {
   "display_name": "Python 3",
   "language": "python",
   "name": "python3"
  },
  "language_info": {
   "codemirror_mode": {
    "name": "ipython",
    "version": 2
   },
   "file_extension": ".py",
   "mimetype": "text/x-python",
   "name": "python",
   "nbconvert_exporter": "python",
   "pygments_lexer": "ipython2",
   "version": "2.7.6"
  }
 },
 "nbformat": 4,
 "nbformat_minor": 5
}
